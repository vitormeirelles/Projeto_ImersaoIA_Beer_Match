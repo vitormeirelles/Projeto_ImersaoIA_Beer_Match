{
  "nbformat": 4,
  "nbformat_minor": 0,
  "metadata": {
    "colab": {
      "provenance": [],
      "authorship_tag": "ABX9TyNSQJksu4yyEJeh2NHacFGM",
      "include_colab_link": true
    },
    "kernelspec": {
      "name": "python3",
      "display_name": "Python 3"
    },
    "language_info": {
      "name": "python"
    }
  },
  "cells": [
    {
      "cell_type": "markdown",
      "metadata": {
        "id": "view-in-github",
        "colab_type": "text"
      },
      "source": [
        "<a href=\"https://colab.research.google.com/github/vitormeirelles/Projeto_ImersaoIA_Beer_Match/blob/main/Beer_Match.ipynb\" target=\"_parent\"><img src=\"https://colab.research.google.com/assets/colab-badge.svg\" alt=\"Open In Colab\"/></a>"
      ]
    },
    {
      "cell_type": "markdown",
      "source": [
        "# Instalação da biblioteca Gemini"
      ],
      "metadata": {
        "id": "2jbeUqAZ8rBx"
      }
    },
    {
      "cell_type": "code",
      "source": [
        "!pip install -q -U google-generativeai"
      ],
      "metadata": {
        "id": "pDiPHBAhHvWt"
      },
      "execution_count": 167,
      "outputs": []
    },
    {
      "cell_type": "markdown",
      "source": [
        "# Importação das bibliotecas e definição da API KEY"
      ],
      "metadata": {
        "id": "StQ1TqUA8tYj"
      }
    },
    {
      "cell_type": "code",
      "source": [
        "import google.generativeai as genai\n",
        "import numpy as np\n",
        "import pandas as pd\n",
        "from google.colab import userdata\n",
        "api_key = userdata.get('SECRET_KEY')\n",
        "genai.configure(api_key=api_key)"
      ],
      "metadata": {
        "id": "Fv12judKIHvV"
      },
      "execution_count": 168,
      "outputs": []
    },
    {
      "cell_type": "markdown",
      "source": [
        "# Listar os modelos disponíveis"
      ],
      "metadata": {
        "id": "57PZKMYz8wmj"
      }
    },
    {
      "cell_type": "code",
      "source": [
        "for m in genai.list_models():\n",
        "  if 'embedContent' in m.supported_generation_methods:\n",
        "    print(m.name)"
      ],
      "metadata": {
        "colab": {
          "base_uri": "https://localhost:8080/",
          "height": 52
        },
        "id": "75nXKiyCOEZg",
        "outputId": "7a1b856f-43a5-4310-90c4-a9b74753d8fe"
      },
      "execution_count": 169,
      "outputs": [
        {
          "output_type": "stream",
          "name": "stdout",
          "text": [
            "models/embedding-001\n",
            "models/text-embedding-004\n"
          ]
        }
      ]
    },
    {
      "cell_type": "markdown",
      "source": [
        "# Embedding os parâmetros de busca"
      ],
      "metadata": {
        "id": "S7oXo2_n8z14"
      }
    },
    {
      "cell_type": "code",
      "source": [
        "title = 'A próxima geração de IA'\n",
        "sample_text = ('Título: A próxima geração de IA'\n",
        "    '\\n'\n",
        "    'Artigo completo: \\n'\n",
        "    '\\n'\n",
        "    'Gemini API e Google AI Studio: Uma maneira acessível de explorar e criar protótipos com aplicações de IA Generativa')\n",
        "\n",
        "embeddings = genai.embed_content(model='models/embedding-001',\n",
        "                                 content=sample_text,\n",
        "                                 title=title,\n",
        "                                 task_type='RETRIEVAL_DOCUMENT')\n",
        "print(embeddings)"
      ],
      "metadata": {
        "colab": {
          "base_uri": "https://localhost:8080/",
          "height": 54
        },
        "id": "RxR0mMqhWxup",
        "outputId": "2d1052be-4b48-4384-b703-dd5cf484db3f"
      },
      "execution_count": 170,
      "outputs": [
        {
          "output_type": "stream",
          "name": "stdout",
          "text": [
            "{'embedding': [0.04083731, -0.031077122, -0.012065337, 0.020434018, 0.07110112, -0.011021598, -0.006730809, -0.015929908, 0.04704679, 0.0559142, 0.021423196, 0.011796943, -0.032335583, -0.012212907, 0.0020758878, -0.032769028, 0.018084545, -0.00012431828, -0.04027791, 0.004325089, -0.01892225, 0.007755118, -0.019405227, -0.05608392, -0.016966688, 0.026109079, 0.023692265, -0.046977565, -0.0396581, 0.008001663, -0.03484384, 0.047652178, -0.039019797, 0.0021008307, -0.026763896, -0.06892037, -0.03317968, -0.042584416, -0.003919623, 0.012631051, 0.01745926, -0.07396413, -0.0021697218, 0.011805267, -0.0014317337, -0.029054558, 0.034565624, 0.05109355, 0.02275216, -0.07715641, 0.041676003, 0.022765322, 0.07896105, -0.039230157, -0.016029702, -0.005098635, 0.033714265, -0.021283753, 0.014395517, 0.00091045216, 0.005720889, 0.018807156, -0.013761225, 0.048488762, 0.0016084915, -0.050385427, -0.039405376, 0.005539256, 0.022995261, 0.03096895, 0.018989997, 0.0018795907, 0.06720247, -0.05489759, -0.020978173, -0.09107526, -0.027739478, 0.030484792, 0.00068526505, 0.024310924, 0.012520552, -0.08217169, -0.046500694, -0.042771235, -0.02046347, 0.05266477, -0.052058216, -0.036595117, 0.039600775, 0.010437299, -0.0036619497, -0.023952914, 0.0615562, -0.041087277, -0.015957082, 0.07613294, -0.04471408, -0.015830154, 0.010928308, -0.07212653, -0.003451833, 0.01949309, -0.05286705, 0.016940318, 0.022916468, 0.028181374, -0.011830054, 0.027757756, -0.052669764, 0.10183275, -0.036791343, -0.024529355, 0.04279038, -0.06853059, 0.059599124, -0.021065794, 0.01488876, 0.04655124, 0.0026649348, 0.06650878, 0.033137556, 0.017342974, 0.047138527, -0.0040913997, -0.012638129, 0.029248735, -0.04526087, 0.005741726, 0.061613496, 0.03793571, 0.010979309, -0.027127927, -0.034660272, 0.037336014, 0.058074303, 0.033265524, 0.004320255, -0.015604942, 0.052608732, 0.03908778, 0.009907676, 0.04254159, -0.0016250816, -0.0016563106, -0.018079665, 0.06010236, -0.08209186, -0.020485746, 0.053493, -0.022192864, -0.046986908, -0.0056796917, -0.09425834, 0.046345197, 0.04486366, 0.016798334, -0.030059071, 0.043291833, 0.029802388, 0.019690627, 0.04101886, -0.014025411, 0.0074794996, 0.003218325, -0.033652987, -0.025392463, 0.0027858284, 0.013485646, 0.014992563, 0.028970921, -0.0003046097, 0.012795554, -0.033132598, -0.061948825, -0.012859873, -0.04324222, -0.005258184, -0.0053944206, -0.045950145, 0.016497707, -0.028714072, -0.05958353, 0.037751835, 0.033952627, 0.007561673, -0.02693173, 0.05580429, -0.019094609, -0.06996492, 0.049604986, 0.0016725323, -0.023498112, -0.013422754, 0.0037175065, -0.036309592, 0.048718415, 0.034035116, 0.018895078, 0.022686714, -0.031281874, -0.0039381343, 0.048090365, 0.02135831, -0.01159435, -0.007426638, 0.03102627, 0.06122899, -0.017362015, -0.028205408, 0.028532632, -0.05819889, 0.0020021233, 0.03772768, 0.00796189, 0.03948545, -0.025892036, -0.002997153, 0.008893263, -0.027905673, -0.047725666, -0.02145606, -0.008376011, -0.041074004, 0.011735293, -0.030501254, 0.07366816, -0.053850733, 0.05185464, 0.035693698, -0.07726582, 0.00087381934, 0.07918136, 0.06430966, -0.0068497392, 0.060184926, 0.030384932, 0.025492594, 0.014347369, 0.0373491, 0.02746775, -0.05193791, 0.07115931, 0.052212942, 0.04347773, -0.049410824, -0.009054356, 0.009633818, 0.062468734, 0.0034187827, 0.038437013, -0.0072786584, -0.043879956, -0.06031516, 0.068960354, -0.008335522, 0.011982986, -0.055811543, -0.081182934, 0.053995546, 0.014724269, 0.06584589, -0.03085474, 0.017196318, -0.001414865, -0.0016096368, -0.031509224, 0.011336572, 0.0227252, -0.0037422623, 0.024142876, -0.015136894, -0.067148946, 0.045229428, 0.03292023, 0.014637729, 0.029057637, 0.003042173, 0.046023704, 0.05182597, -0.08887222, -0.0051791957, 0.032924432, 0.020912161, -0.06682301, -0.04875841, -0.011471242, -0.019078914, -0.039341457, -0.0009552312, -0.049069125, -0.053548332, 0.052444983, 0.001139578, 0.007909279, -0.061656754, 0.010939375, -0.024014583, 0.043327246, 0.053689666, -0.014628964, -0.018239154, -0.06361258, -0.036029775, -0.0799118, -0.032015845, -0.017084463, -0.004357609, -0.050344676, 0.04031701, 0.051896315, 0.006250138, -0.042375315, -0.02955057, 0.011893829, 0.081921265, 0.042339697, -0.039887752, 0.014856159, -0.009136835, 0.04554963, -0.0037981777, 0.0033392643, 0.0040403013, -0.0074224845, -0.0031311316, 0.043034982, -0.041716423, 0.0055966997, -0.007700431, 0.011684923, -0.010198439, -0.013439918, -0.03545445, 0.040633246, 0.06230392, -0.013994256, -0.04561276, 0.011923304, -0.014002155, -0.029942593, -0.0056142625, -0.010073431, -0.0023517169, -0.03373673, 0.02906527, 0.00632986, -0.106555335, -0.01608962, 0.07510433, 0.010171129, -0.0155153405, 0.07438971, -0.044262502, -0.024291875, -0.0014935227, -0.020117007, 0.043437935, 0.02726108, 0.07440186, -0.028453005, -0.009456162, 0.04935074, -0.008196345, 0.012791093, -0.00088451925, 0.034031875, -8.1864644e-05, -0.015749035, -0.006288782, 0.0076535586, 0.013855705, -0.016597638, 0.01937135, -0.038386505, 0.015784208, 0.008478656, -0.0136650335, -0.08181905, -0.002927348, 0.02985559, -0.020941826, -0.029565644, 0.03726951, 0.04580336, -0.011869616, -0.023994742, 0.017993594, 0.06435302, 0.00074787653, 0.062809005, 0.032775026, 0.0056761946, 0.08278889, 0.035166863, 0.024890091, 0.007598034, -0.009353543, -0.013842524, 0.025151586, -0.023536671, -0.030186506, -0.04611094, -0.01657364, -0.039011266, -0.02292693, -0.0011881177, -0.018229313, -0.03748974, -0.028549954, -0.043507554, 0.033706285, -0.006650034, 0.05133847, -0.06375697, -0.06264471, 0.0065059676, 0.007561278, -0.020169545, 0.00015050136, -0.008228712, -0.02006304, 0.023109693, 0.020901544, -0.015693203, -0.04150754, -0.007866037, 0.04705431, -0.032086216, 0.0068450817, 0.018462123, 0.02737765, 0.021907423, -0.0111807, 0.023615623, -0.009617307, -0.036518384, 0.00040069976, 0.0138756195, -0.03536074, 0.023740066, 0.027507937, -0.02923776, -0.01398011, 0.0041203243, -0.07884, -0.06491386, 0.017753603, 0.009031566, 0.04258575, -0.051862016, 0.0023851509, -0.063934796, -0.028940702, -0.045833692, -0.04232941, 0.014520818, 0.019361401, 0.019358547, -0.013318905, -0.0037410788, 0.016847411, -0.017806347, -0.018951833, -0.027004486, 0.04398054, -0.010799744, 0.0020899752, -0.007268499, -0.0029351406, 0.044428486, 0.019869136, -0.08505476, 0.03924495, -0.0019636385, 0.019436838, 0.0034408446, -0.06865121, 0.04278841, -0.039264962, 0.021064986, -0.038103543, 0.020902297, 0.018935338, 0.0065068146, -0.019377287, -0.023823129, 0.026401788, 0.013116202, 0.02598953, 0.01637089, 0.03137454, 0.02454364, -0.044964362, -0.070246, -0.022570664, -0.024258733, -0.046749897, 0.014928471, 0.060679648, 0.029821374, -0.0077824914, -0.009675833, -0.0370424, 0.019129217, 0.04758959, -0.024513522, 0.021773968, -0.015238102, -0.002066136, -0.03114418, -0.0056407177, 0.018297814, 0.0113854045, -0.047898956, 0.10050137, -0.040466744, -0.01842608, 0.020183416, 0.03534173, -0.0075048814, 0.043441664, 0.02616424, -0.061529037, -0.010052927, 0.036380857, -0.051673975, 0.007790908, -0.00024286464, 0.0013741723, 0.023169855, -0.049338754, 0.07713794, -0.026334634, -0.044930734, 0.036120087, 0.0121770995, 0.04245802, -0.0112538, -0.024205297, -0.011544161, 0.014595748, -0.060958385, 0.035307765, 0.020186333, -0.040899135, -0.01208827, -0.024804221, -0.06522335, 0.0027302136, -0.03974139, -0.020676121, 0.031759966, 0.001580941, 0.00082971127, 0.0303966, -0.032068234, -0.011281449, -0.028428074, 0.041616984, 0.026982753, 0.043293558, -0.00939137, -0.044757836, 0.008828007, 0.058061134, -0.010928537, -0.012090782, -0.017453073, 0.013042696, -0.019021336, 0.019853428, 0.03970905, 0.047771256, 0.007242906, 0.019081047, -0.024182297, -0.0312778, -0.008758563, -0.049735844, 0.019471869, 0.04757644, -0.00349226, -0.020764519, 0.013885474, -0.025801618, -0.01002472, -0.012865647, 0.03225695, 0.045667116, -0.0040211137, -0.07740976, 0.06108574, 0.015662517, 0.016597357, 0.012862922, -0.019814393, 0.022299437, -0.009166654, 0.011753285, 0.038648423, -0.027380446, -0.038142826, 0.054360267, -0.0040185777, -0.025294064, 0.018994862, -0.028928302, 0.034669463, 0.0059174015, 0.0027673908, 0.026815064, -0.07768247, 0.017810974, -0.026182782, -0.05934191, -0.008644888, 0.032250088, 0.0033784166, -0.04121977, 0.0020405618, 0.022510318, 0.04535934, 0.0114338, 0.034680553, 0.024943091, 0.020074358, -0.07428909, 0.023968343, 0.0648275, 0.054538008, 0.055435296, 0.06421477, 0.018199734, -0.038174998, -0.054231297, 0.00720024, 0.011836101, 0.060324673, -0.007450864, -0.029335111, -0.05114354, -0.00034859846, -0.022289157, -0.03654587, -0.03131161, 0.016997932, 6.6647913e-06, -0.057438854, -0.06899355, 0.020436177, -0.0077203694, 0.010379561, 0.0036809598, -0.017915081, 0.037899733, 0.020420874, -0.07511199, -0.029328736, 0.042524412, -0.020576343, -0.071552634, 0.0055840584, 0.017599262, 0.002684952, -0.05258643, -0.032180317, -0.06156727, -0.07461611, -0.029909635, 0.02332534, -0.028717354, 0.055558726, 0.02633441, -0.01752182, 0.036164567, 0.04339273, 0.012640244, -0.013514961, -0.010448136, -0.023741562, 0.0021818096, -0.011936842, -0.0055843056, 0.004915407, -0.033524778, 0.02385765, 0.050869368, -0.007433996, -0.014914572, -0.007989303, -0.019138461, -0.039337773, -0.009095131, -0.0049250526, -0.0045593423, -0.024466533, -0.025585497, -0.04199017, 0.057475775, 0.036541138, -0.02038163, -0.030709993, -0.010432523, -0.019113801, -0.0014339944, 0.0033621565, -0.02640205, -0.0070770583, -0.03444609, 0.055242106, 0.06463394, -0.05169142, -0.07062582, 0.03069562, -0.023131523, 0.00836349, -0.046068043, 0.002946749, -0.015756225, 0.02561767, 0.007068493, 0.015922649, 0.011747613, -0.0438118, -0.08239991, 0.014198193, -0.020733707, -0.0037038324, -0.027599925, -0.0036308067, 0.081385575, 0.0073040435, -0.05239535, 0.028678082, -0.0135967815, 0.038106963, -0.033469364, 0.05646857, -0.045560136, -0.078926355, -0.023595344, -0.017418204, -0.016757738, 0.072314896, 0.031063706, -0.047741473, 0.019082956, -0.02402995, -0.008071566, -0.07541504, -0.020630587, -0.032280907, -0.01259156, 0.03848654, -0.014280629, -0.007776199, -0.023386883, -0.039920624, 0.010989818, -0.005775933, -0.047915053, -0.023085747, 0.021395948, -0.015514519, 0.013378078, 0.08236899, -0.056930292, -0.0013109285]}\n"
          ]
        }
      ]
    },
    {
      "cell_type": "markdown",
      "source": [
        "#Listagem dos documentos que serão buscados"
      ],
      "metadata": {
        "id": "tpC5q5Lu826u"
      }
    },
    {
      "cell_type": "code",
      "source": [
        "DOCUMENT1 = {\n",
        "    \"Título\": \"Estilos Claros\",\n",
        "    \"Conteúdo\":\"estilo: American Light Lager, cor: Muito clara a amarelo claro,teor_alcoólico: 2.8% a 4.2%, sensorial: Quase sem sabor, refrescante, levemente granulada ou com sabor de milho, exemplos: Bud Light, Coors Light, Miller Lite, estilo: American Lager,cor: Muito clara a amarelo médio, teor_alcoólico: 4.2% a 5.3%, sensorial: Sabor neutro, final seco, levemente granulada ou com sabor de milho, exemplos: Budweiser, Coors Original, Miller High Life, estilo: Cream Ale,cor: Clara a dourado claro,teor_alcoólico: 4.2% a 5.6%, sensorial: Limpa, bem atenuada, saborosa, com mais caráter que as Lagers Americanas, exemplos: Genesee Cream Ale, Little Kings Cream Ale, estilo: American Wheat Beer, cor: Amarelo claro a dourado, teor_alcoólico: 4.0% a 5.5%, sensorial: Refrescante, com sabor de trigo, perfil de fermentação limpo e caráter de lúpulo variável, exemplos: Bell's Oberon, Boulevard Unfiltered Wheat Beer, Widmer Hefeweizen, estilo: International Pale Lager, cor: Clara a dourado, teor_alcoólico: 4.5% a 6.0%, sensorial: Bem atenuada, sem sabores fortes, balanceada e altamente carbonatada, exemplos: Asahi Super Dry, Heineken, Corona Extra, estilo: Czech Pale Lager, cor: Amarelo claro a dourado profundo, teor_alcoólico: 3.0% a 4.1%, sensorial: Corpo mais leve, rica, refrescante, lupulada, amarga, exemplos: Bernard světlé pivo 10, Radegast Rázna 10, estilo: Czech Premium Pale Lager, cor: Amarelo médio a dourado profundo, teor_alcoólico: 4.2% a 5.8%, sensorial: Refrescante, com considerável caráter de malte e lúpulo, final longo, exemplos: Pilsner Urquell, Budvar 33 světlý ležák, estilo: Munich Helles, cor: Amarelo claro a dourado claro, teor_alcoólico: 4.7% a 5.4%, sensorial: Sabor suave e maltado, final seco, lúpulos florais, condimentados ou herbais, exemplos: Augustiner Lagerbier Hell, Hacker-Pschorr Münchner Gold, Paulaner Münchner Lager, estilo: Festbier, cor: Amarelo profundo a dourado profundo, teor_alcoólico: 5.8% a 6.3%, sensorial: Suave, limpa, com sabor de malte moderadamente forte e caráter de lúpulo leve, exemplos: Augustiner Oktoberfest, Hacker-Pschorr Superior Festbier, Paulaner Oktoberfest Bier, estilo: Helles Bock, cor: Dourado profundo a âmbar claro, teor_alcoólico: 6.3% a 7.4%, sensorial: Relativamente clara, forte, maltada, com final bem atenuado, exemplos: Ayinger Maibock, Einbecker Mai-Ur-Bock, Hofbräu Maibock, estilo: German Leichtbier, cor: Clara a amarelo profundo, teor_alcoólico: 2.4% a 3.6%, sensorial: Clara, bem atenuada, com baixo teor alcoólico, moderadamente amarga, exemplos: Autenrieder Schlossbräu Leicht, Greif Bräu Leicht, estilo: Kölsch, cor: Amarelo médio a dourado claro, teor_alcoólico: 4.4% a 5.2%, sensorial: Sutil, clara, com delicado equilíbrio de malte, frutas e lúpulo, exemplos: Früh Kölsch, Gaffel Kölsch, Reissdorf Kölsch, estilo: German Helles Exportbier, cor: Clara a amarelo profundo, teor_alcoólico: 4.4% a 5.2%, sensorial: Clara, seca, amarga, com aroma de lúpulo proeminente, exemplos: Bitburger Premium Pils, Jever Pilsener, König Pilsener, Warsteiner Premium Verum, estilo: Weissbier, cor: Clara a dourado, teor_alcoólico: 4.3% a 5.6%, sensorial: Clara, refrescante, levemente lupulada, com perfil de fermentação de levedura Weizen, exemplos: Schneider Weisse, Paulaner Hefe-Weissbier, Weihenstephaner Hefeweissbier, estilo: British Golden Ale, cor: Clara a dourada, teor_alcoólico: 3.8% a 5.0%, sensorial: Lupulada, com teor alcoólico médio a moderadamente forte, refrescante, exemplos: Hop Back Summer Lightning, Fuller's Discovery, Badger Golden Champion, estilo: Blonde Ale, cor: Amarelo claro a dourado profundo, teor_alcoólico: 3.8 – 5.5%, sensorial: Aroma maltado leve a moderado, geralmente neutro ou granulado, possivelmente com uma leve nota de pão ou caramelo. O frutado de baixo a moderado é opcional, mas aceitável. exemplos: Firestone Walker 805, Kona Big Wave Golden Ale, Real Ale Firemans #4 Blonde Ale, Russian River Aud Blonde, Victory Summer Love, Widmer Citra Summer Blonde Brew, estilo: American Pale Ale, cor: Dourado pálido a âmbar, teor_alcoólico: 4.5 – 6.2%, sensorial: Aroma de lúpulo moderado a moderadamente alto de variedades de lúpulo americanas ou do Novo Mundo com uma ampla gama de características possíveis, incluindo cítrico, floral, pinho, resina, especiarias, frutas tropicais, frutas de caroço, frutas vermelhas ou melão, exemplos: Deschutes Mirror Pond Pale Ale, Half Acre Daisy Cutter Pale Ale, Great Lakes Burning River, La Cumbre Acclimated APA, Sierra Nevada Pale Ale, Stone Pale Ale 2.0, estilo: American IPA, cor: Médio dourado a âmbar avermelhado claro, teor_alcoólico: 5.5 – 7.5%, sensorial: Um aroma de lúpulo proeminente a intenso, geralmente apresentando características de lúpulo americanas ou do Novo Mundo, como cítrico, floral, pinho, resina, especiarias, frutas tropicais, frutas de caroço, frutas vermelhas ou melão, exemplos: Bell’s Two-Hearted Ale, Cigar City Jai Alai, Fat Heads Head Hunter IPA, Firestone Walker Union Jack, Maine Lunch, Russian River Blind Pig IPA, estilo: White IPA, cor: Cor pálida a dourada profunda, teor_alcoólico: 5.5 – 7.0%, sensorial: Uma versão frutada, picante e refrescante de uma American IPA, mas com uma cor mais clara, menos corpo e apresentando as adições distintas de levedura ou especiarias típicas de uma Witbier, exemplos: Lagunitas A Little Sumpin' Sumpin' Ale, New Belgium Accumulation, estilo: Brut IPA, cor: muito pálida, variando de palha muito pálido a dourado muito claro, teor_alcoólico: 6.0 – 7.5%, sensorial: Uma variante da American IPA muito pálida e voltada para o lúpulo, com um final seco, carbonatação muito alta e um nível de amargor contido, exemplos: Drake’s Brightside Extra Brut IPA, Fair State Brewing Co-Op The Brut Squad, Ommegang Brut IPA, estilo: Hazy IPA, cor: Variando de palha a âmbar muito claro, às vezes com um tom laranja, teor_alcoólico: 6.0 – 9.0%, sensorial: Aroma intenso de lúpulo, com frutas de caroço, frutas tropicais, frutas cítricas ou outras qualidades frutadas; não gramíneo ou herbal. Malte limpo, neutro, granulado ou levemente pão no fundo; sem caramelo ou torradas, exemplos: Belching Beaver Hazers Gonna Haze, Hill Farmstead Susan, Other Half Green Diamonds Double IPA, Pinthouse Electric Jellyfish, Tree House Julius, Trillium Congress Street, WeldWerks Juicy Bits, estilo: Double IPA, cor: Dourado a cobre laranja claro, teor_alcoólico: 7.5 – 10.0%, sensorial: Um aroma de lúpulo proeminente a intenso, tipicamente apresentando características de lúpulo americanas ou do Novo Mundo, como cítrico, floral, pinho, resina, especiarias, frutas tropicais, frutas de caroço, frutas vermelhas ou melão, exemplos: Columbus Brewing Bohdi, Fat Head’s Hop Juju, Port Brewing Hop-15, Russian River Pliny the Elder, Stone Ruination Double IPA 2.0, Wicked Weed Freak of Nature, estilo: Berliner Weisse, cor: amarelo Palha, teor_alcoólico: 2.8 – 3.8%, sensorial: Um caráter azedo acentuado a moderadamente alto é dominante. Pode ter até um frutado moderado, geralmente limão, maçã ácida, pêssego ou damasco e uma leve nota floral, exemplos: Bayerischer Bahnhof Berliner Style Weisse, Berliner Berg Berliner Weisse, Brauerei Meierei Weiße, Lemke Berlin Budike Weisse, Schell's Brewing Company Schelltheiss, Urban Chestnut Ku’damm\"}\n",
        "DOCUMENT2 = {\n",
        "    \"Título\":\"Estilos Âmbar\" ,\n",
        "    \"Conteúdo\": \"International Amber Lager, cor: Âmbar dourado a cobre avermelhado, teor_alcoólico: 4.5% a 6.0%, sensorial: Suave, maltada, com sabor de caramelo ou tostado, exemplos: Brooklyn Lager, Dos Equis Amber, Yuengling Lage, nome: Czech Amber Lager, cor: Âmbar profundo a cobre, teor_alcoólico: 4.4% a 5.8%, sensorial: Maltada, com caráter de lúpulo variável, pode ser seca, com sabor de pão ou doce e caramelada, exemplos: Bernard Jantarový ležák 12°, Gambrinus Polotmavá 12°, nome: Rauchbier, cor: Âmbar profundo a marrom acobreado, teor_alcoólico: 4.8% a 6%, sensorial: Defumada com madeira de faia, maltada, com perfil de Märzen e caráter de fumaça perceptível a intenso, exemplos: Schlenkerla Rauchbier Märzen, Spezial Rauchbier Märzen, estilo: Vienna Lager, cor: Âmbar avermelhado claro a cobre, teor_alcoólico: 4.7% a 5.5%, sensorial: Âmbar continental de força moderada, com maltado suave e amargor equilibrad, exemplos: Negra Modelo, Devils Backbone Vienna Lager, Great Lakes Eliot Ness, estilo: Altbier, cor: Âmbar a cobre profundo, teor_alcoólico: 4.3% a 5.5%, sensorial: Bem atenuada, amarga, com rico maltado equilibrando um forte amargor, exemplos: Diebels Alt, Füchschen Alt, Uerige Altbier, estilo: Irish Red Ale, cor: Âmbar médio a cobre avermelhado médio, teor_alcoólico: 3.8 – 5.0%, sensorial: Caramelo moderado a muito pouco e dulçor, raramente com uma qualidade leve de torrada com manteiga ou toffee. O paladar geralmente é bastante neutro e granulado, ou pode assumir uma nota levemente tostada ou de biscoito ao terminar com um leve sabor de grão torrado, que confere uma secura característica ao final, exemplos: Franciscan Well Rebel Red, Kilkenny Irish Beer, Murphy’s Irish Red, O’Hara’s Irish Red Ale, estilo: English IPA, cor: Dourada a âmbar profundo, teor_alcoólico: 5.0% a 7.5%, sensorial: Amarga, moderadamente forte, bem atenuada, com aroma e sabor de lúpulo, exemplos: Samuel Smith's India Ale, Fuller's IPA, Greene King IPA, estilo: English Barley Wine, cor: Âmbar dourado a marrom escuro, teor_alcoólico: 8.0 – 12.0%, sensorial: Muito rico, fortemente maltado, geralmente com um aroma de caramelo nas versões mais escuras ou um leve caráter de toffee nas versões mais claras. Pode ter um caráter rico, incluindo notas de pão, torradas ou toffee, exemplos: Burton Bridge Thomas Sykes Old Ale, Coniston No. 9 Barley Wine, Fuller’s Golden Pride, Hogs Back A over T, J.W. Lee’s Vintage Harvest Ale, estilo: American Amber Ale, cor: Âmbar profundo a marrom acobreado, teor_alcoólico: 4.5 – 6.2%, sensorial: Aroma de lúpulo baixo a moderado reflexivo de variedades de lúpulo americanas ou do Novo Mundo (cítrico, floral, pinho, resina, especiarias, frutas tropicais, frutas de caroço, frutas vermelhas ou melão), exemplos: Anderson Valley Boont Amber Ale, Bell’s Amber Ale, Full Sail Amber, estilo: Flanders Red Ale, cor: Vermelho profundo, teor_alcoólico: 4.6 – 6.5%, sensorial: Perfil complexo frutado-azedo com malte de suporte. Frutado é alto e lembra cerejas pretas, laranjas, ameixas, groselhas ou couro de frutas, exemplos: Cuvée des Jacobins, Duchesse de Bourgogne, New Belgium La Folie, Rodenbach Classic, Rodenbach Grand Cru, Vichtenaar Flemish Ale, estilo: American Barleywine, cor: Âmbar a cobre médio, teor_alcoólico: 8.0 – 12.0%, sensorial: Aroma forte de malte e lúpulo domina. Os lúpulos são moderados a assertivos, mostrando uma gama de características americanas, do Novo Mundo ou inglesas, exemplos: Anchor Old Foghorn, Bell’s Third Coast Old Ale, East End Gratitude, Hair of the Dog Doggie Claws, Sierra Nevada Bigfoot, estilo: Old Ale, cor: Âmbar profundo, teor_alcoólico: 5.5 – 9.0%, sensorial:  vinhos, caramelo, melaço, toffee, leve melaço ou outros aromas de malte especiais, exemplos: Avery Old Jubilation, Berlina Old Ale, Greene King Strong Suffolk Ale, Marston Owd Roger, Theakston Old Peculie\"}\n",
        "DOCUMENT3 = {\n",
        "    \"Título\": \"Estilos Escuros\",\n",
        "    \"Conteúdo\": \"International Dark Lager, cor: Âmbar profundo a marrom muito escuro, teor_alcoólico: 4.2% a 6.0%, sensorial: Mais escura e doce que a International Pale Lager, com um pouco mais de corpo e sabor, exemplos: Baltika #4 Original, Heineken Dark Lager, Shiner Bock, estilo: Schwarzbier, cor: Marrom médio a muito escuro, teor_alcoólico: 4.4% a 5.4%, sensorial: Lager escura que equilibra sabores de malte torrado e suave com amargor moderado de lúpulo, exemplos: Köstritzer Schwarzbier, Mönchshof Schwarzbier, Xingu Black Beer, estilo: Doppelbock, cor: Cobre a marrom escuro, teor_alcoólico: 7.0% a 10.0%, sensorial: Forte, rica, muito maltada, pode ser clara ou escura, exemplos: Paulaner Salvator, Ayinger Celebrator, Spaten Optimator, estilo: Eisbock, cor: Cobre profundo a marrom escuro, teor_alcoólico: 9.0% a 14.0%, sensorial: Forte, encorpada, rica e maltada, frequentemente com qualidade viscosa e sabores fortes, exemplos: Kulmbacher Reichelbräu Eisbock, Schneider Aventinus Eisbock, estilo: Baltic Porter, cor: Cobre avermelhado escuro a marrom escuro opaco, teor_alcoólico: 6.5% a 9.5%, sensorial: Forte, escura, maltada, com sabores complexos de frutas escuras e sabor torrado, exemplos: Sinebrychoff Porter, Okocim Porter, Aldaris Porteris, estilo: Dunkles Weissbier, cor: Cobre claro a marrom escuro, teor_alcoólico: 4.3% a 5.6%, sensorial: Moderadamente escura, com perfil de fermentação de levedura Weizen, sabor de pão torrado ou caramelo, exemplos: Franziskaner Hefe-Weisse Dunkel, Ayinger Ur-Weisse, Weihenstephaner Hefeweissbier Dunkel, estilo: British Brown Ale, cor: Âmbar escuro a marrom avermelhado escuro, teor_alcoólico: 4.2% a 5.9%, sensorial: Maltada, caramelada, sem os sabores torrados de uma Porter, exemplos: Newcastle Brown Ale, Samuel Smith's Nut Brown Ale, Mann's Brown Ale, estilo: English Porter, cor: Marrom a marrom escuro, teor_alcoólico: 4.0% a 5.4%, sensorial: Marrom escura, com caráter torrado e amargo moderado, exemplos: Fuller's London Porter, Samuel Smith's Taddy Porter, St. Peter's Old-Style Porter, estilo: Irish Stout, cor: Preto acastanhado a marrom escuro, teor_alcoólico: 3.8 – 5.0%, sensorial: Aroma de café moderado normalmente domina; pode ter leves notas secundárias de chocolate amargo, cacau ou grãos torrados, exemplos: Beamish Irish Stout, Belhaven Black Stout, Guinness Draught, Murphy's Irish Stout, O’Hara’s Irish Stout, Porterhouse Irish Stout, estilo: Imperial Stout, cor: Marrom avermelhado muito escuro a preto, teor_alcoólico: 8.0 – 12.0%, sensorial: Rico, profundo, complexo e frequentemente bastante intenso, com uma mistura agradável de torra, frutas, lúpulo e álcool, exemplos: Courage Imperial Russian Stout, North Coast Old Rasputin Imperial Stout, estilo: Belgian Dark Strong Ale, cor: Âmbar profundo a marrom acobreado profundo, teor_alcoólico: 8.0 – 12.0%, sensorial: Uma mistura complexa e bastante intensa de rica maltosidade e frutas profundas, acentuada por fenóis condimentados e álcooo, exemplos: Achel Extra Bruin, Boulevard The Sixth Glass, Chimay Blue, Rochefort 10, St. Bernardus Abt 12, Westvleteren 12\"}\n",
        "\n",
        "documents = [DOCUMENT1, DOCUMENT2, DOCUMENT3]"
      ],
      "metadata": {
        "id": "39uxu3oNCgar"
      },
      "execution_count": 335,
      "outputs": []
    },
    {
      "cell_type": "markdown",
      "source": [
        "#Criação do dataframe"
      ],
      "metadata": {
        "id": "hOWsi9hD85mG"
      }
    },
    {
      "cell_type": "code",
      "source": [
        "df = pd.DataFrame(documents)\n",
        "df.columns = [\"Titulo\", \"Conteudo\"]\n",
        "df"
      ],
      "metadata": {
        "colab": {
          "base_uri": "https://localhost:8080/",
          "height": 143
        },
        "id": "OqeA5bPdFeLs",
        "outputId": "e455ceb4-04bd-4d7f-f62e-8ce3801855c1"
      },
      "execution_count": 336,
      "outputs": [
        {
          "output_type": "execute_result",
          "data": {
            "text/plain": [
              "            Titulo                                           Conteudo\n",
              "0   Estilos Claros  estilo: American Light Lager, cor: Muito clara...\n",
              "1    Estilos Âmbar  International Amber Lager, cor: Âmbar dourado ...\n",
              "2  Estilos Escuros  International Dark Lager, cor: Âmbar profundo ..."
            ],
            "text/html": [
              "\n",
              "  <div id=\"df-8742900f-1b79-4f02-817d-f020e5abd0bf\" class=\"colab-df-container\">\n",
              "    <div>\n",
              "<style scoped>\n",
              "    .dataframe tbody tr th:only-of-type {\n",
              "        vertical-align: middle;\n",
              "    }\n",
              "\n",
              "    .dataframe tbody tr th {\n",
              "        vertical-align: top;\n",
              "    }\n",
              "\n",
              "    .dataframe thead th {\n",
              "        text-align: right;\n",
              "    }\n",
              "</style>\n",
              "<table border=\"1\" class=\"dataframe\">\n",
              "  <thead>\n",
              "    <tr style=\"text-align: right;\">\n",
              "      <th></th>\n",
              "      <th>Titulo</th>\n",
              "      <th>Conteudo</th>\n",
              "    </tr>\n",
              "  </thead>\n",
              "  <tbody>\n",
              "    <tr>\n",
              "      <th>0</th>\n",
              "      <td>Estilos Claros</td>\n",
              "      <td>estilo: American Light Lager, cor: Muito clara...</td>\n",
              "    </tr>\n",
              "    <tr>\n",
              "      <th>1</th>\n",
              "      <td>Estilos Âmbar</td>\n",
              "      <td>International Amber Lager, cor: Âmbar dourado ...</td>\n",
              "    </tr>\n",
              "    <tr>\n",
              "      <th>2</th>\n",
              "      <td>Estilos Escuros</td>\n",
              "      <td>International Dark Lager, cor: Âmbar profundo ...</td>\n",
              "    </tr>\n",
              "  </tbody>\n",
              "</table>\n",
              "</div>\n",
              "    <div class=\"colab-df-buttons\">\n",
              "\n",
              "  <div class=\"colab-df-container\">\n",
              "    <button class=\"colab-df-convert\" onclick=\"convertToInteractive('df-8742900f-1b79-4f02-817d-f020e5abd0bf')\"\n",
              "            title=\"Convert this dataframe to an interactive table.\"\n",
              "            style=\"display:none;\">\n",
              "\n",
              "  <svg xmlns=\"http://www.w3.org/2000/svg\" height=\"24px\" viewBox=\"0 -960 960 960\">\n",
              "    <path d=\"M120-120v-720h720v720H120Zm60-500h600v-160H180v160Zm220 220h160v-160H400v160Zm0 220h160v-160H400v160ZM180-400h160v-160H180v160Zm440 0h160v-160H620v160ZM180-180h160v-160H180v160Zm440 0h160v-160H620v160Z\"/>\n",
              "  </svg>\n",
              "    </button>\n",
              "\n",
              "  <style>\n",
              "    .colab-df-container {\n",
              "      display:flex;\n",
              "      gap: 12px;\n",
              "    }\n",
              "\n",
              "    .colab-df-convert {\n",
              "      background-color: #E8F0FE;\n",
              "      border: none;\n",
              "      border-radius: 50%;\n",
              "      cursor: pointer;\n",
              "      display: none;\n",
              "      fill: #1967D2;\n",
              "      height: 32px;\n",
              "      padding: 0 0 0 0;\n",
              "      width: 32px;\n",
              "    }\n",
              "\n",
              "    .colab-df-convert:hover {\n",
              "      background-color: #E2EBFA;\n",
              "      box-shadow: 0px 1px 2px rgba(60, 64, 67, 0.3), 0px 1px 3px 1px rgba(60, 64, 67, 0.15);\n",
              "      fill: #174EA6;\n",
              "    }\n",
              "\n",
              "    .colab-df-buttons div {\n",
              "      margin-bottom: 4px;\n",
              "    }\n",
              "\n",
              "    [theme=dark] .colab-df-convert {\n",
              "      background-color: #3B4455;\n",
              "      fill: #D2E3FC;\n",
              "    }\n",
              "\n",
              "    [theme=dark] .colab-df-convert:hover {\n",
              "      background-color: #434B5C;\n",
              "      box-shadow: 0px 1px 3px 1px rgba(0, 0, 0, 0.15);\n",
              "      filter: drop-shadow(0px 1px 2px rgba(0, 0, 0, 0.3));\n",
              "      fill: #FFFFFF;\n",
              "    }\n",
              "  </style>\n",
              "\n",
              "    <script>\n",
              "      const buttonEl =\n",
              "        document.querySelector('#df-8742900f-1b79-4f02-817d-f020e5abd0bf button.colab-df-convert');\n",
              "      buttonEl.style.display =\n",
              "        google.colab.kernel.accessAllowed ? 'block' : 'none';\n",
              "\n",
              "      async function convertToInteractive(key) {\n",
              "        const element = document.querySelector('#df-8742900f-1b79-4f02-817d-f020e5abd0bf');\n",
              "        const dataTable =\n",
              "          await google.colab.kernel.invokeFunction('convertToInteractive',\n",
              "                                                    [key], {});\n",
              "        if (!dataTable) return;\n",
              "\n",
              "        const docLinkHtml = 'Like what you see? Visit the ' +\n",
              "          '<a target=\"_blank\" href=https://colab.research.google.com/notebooks/data_table.ipynb>data table notebook</a>'\n",
              "          + ' to learn more about interactive tables.';\n",
              "        element.innerHTML = '';\n",
              "        dataTable['output_type'] = 'display_data';\n",
              "        await google.colab.output.renderOutput(dataTable, element);\n",
              "        const docLink = document.createElement('div');\n",
              "        docLink.innerHTML = docLinkHtml;\n",
              "        element.appendChild(docLink);\n",
              "      }\n",
              "    </script>\n",
              "  </div>\n",
              "\n",
              "\n",
              "<div id=\"df-ea2d4ff4-b082-43ed-befc-090b7c8d613f\">\n",
              "  <button class=\"colab-df-quickchart\" onclick=\"quickchart('df-ea2d4ff4-b082-43ed-befc-090b7c8d613f')\"\n",
              "            title=\"Suggest charts\"\n",
              "            style=\"display:none;\">\n",
              "\n",
              "<svg xmlns=\"http://www.w3.org/2000/svg\" height=\"24px\"viewBox=\"0 0 24 24\"\n",
              "     width=\"24px\">\n",
              "    <g>\n",
              "        <path d=\"M19 3H5c-1.1 0-2 .9-2 2v14c0 1.1.9 2 2 2h14c1.1 0 2-.9 2-2V5c0-1.1-.9-2-2-2zM9 17H7v-7h2v7zm4 0h-2V7h2v10zm4 0h-2v-4h2v4z\"/>\n",
              "    </g>\n",
              "</svg>\n",
              "  </button>\n",
              "\n",
              "<style>\n",
              "  .colab-df-quickchart {\n",
              "      --bg-color: #E8F0FE;\n",
              "      --fill-color: #1967D2;\n",
              "      --hover-bg-color: #E2EBFA;\n",
              "      --hover-fill-color: #174EA6;\n",
              "      --disabled-fill-color: #AAA;\n",
              "      --disabled-bg-color: #DDD;\n",
              "  }\n",
              "\n",
              "  [theme=dark] .colab-df-quickchart {\n",
              "      --bg-color: #3B4455;\n",
              "      --fill-color: #D2E3FC;\n",
              "      --hover-bg-color: #434B5C;\n",
              "      --hover-fill-color: #FFFFFF;\n",
              "      --disabled-bg-color: #3B4455;\n",
              "      --disabled-fill-color: #666;\n",
              "  }\n",
              "\n",
              "  .colab-df-quickchart {\n",
              "    background-color: var(--bg-color);\n",
              "    border: none;\n",
              "    border-radius: 50%;\n",
              "    cursor: pointer;\n",
              "    display: none;\n",
              "    fill: var(--fill-color);\n",
              "    height: 32px;\n",
              "    padding: 0;\n",
              "    width: 32px;\n",
              "  }\n",
              "\n",
              "  .colab-df-quickchart:hover {\n",
              "    background-color: var(--hover-bg-color);\n",
              "    box-shadow: 0 1px 2px rgba(60, 64, 67, 0.3), 0 1px 3px 1px rgba(60, 64, 67, 0.15);\n",
              "    fill: var(--button-hover-fill-color);\n",
              "  }\n",
              "\n",
              "  .colab-df-quickchart-complete:disabled,\n",
              "  .colab-df-quickchart-complete:disabled:hover {\n",
              "    background-color: var(--disabled-bg-color);\n",
              "    fill: var(--disabled-fill-color);\n",
              "    box-shadow: none;\n",
              "  }\n",
              "\n",
              "  .colab-df-spinner {\n",
              "    border: 2px solid var(--fill-color);\n",
              "    border-color: transparent;\n",
              "    border-bottom-color: var(--fill-color);\n",
              "    animation:\n",
              "      spin 1s steps(1) infinite;\n",
              "  }\n",
              "\n",
              "  @keyframes spin {\n",
              "    0% {\n",
              "      border-color: transparent;\n",
              "      border-bottom-color: var(--fill-color);\n",
              "      border-left-color: var(--fill-color);\n",
              "    }\n",
              "    20% {\n",
              "      border-color: transparent;\n",
              "      border-left-color: var(--fill-color);\n",
              "      border-top-color: var(--fill-color);\n",
              "    }\n",
              "    30% {\n",
              "      border-color: transparent;\n",
              "      border-left-color: var(--fill-color);\n",
              "      border-top-color: var(--fill-color);\n",
              "      border-right-color: var(--fill-color);\n",
              "    }\n",
              "    40% {\n",
              "      border-color: transparent;\n",
              "      border-right-color: var(--fill-color);\n",
              "      border-top-color: var(--fill-color);\n",
              "    }\n",
              "    60% {\n",
              "      border-color: transparent;\n",
              "      border-right-color: var(--fill-color);\n",
              "    }\n",
              "    80% {\n",
              "      border-color: transparent;\n",
              "      border-right-color: var(--fill-color);\n",
              "      border-bottom-color: var(--fill-color);\n",
              "    }\n",
              "    90% {\n",
              "      border-color: transparent;\n",
              "      border-bottom-color: var(--fill-color);\n",
              "    }\n",
              "  }\n",
              "</style>\n",
              "\n",
              "  <script>\n",
              "    async function quickchart(key) {\n",
              "      const quickchartButtonEl =\n",
              "        document.querySelector('#' + key + ' button');\n",
              "      quickchartButtonEl.disabled = true;  // To prevent multiple clicks.\n",
              "      quickchartButtonEl.classList.add('colab-df-spinner');\n",
              "      try {\n",
              "        const charts = await google.colab.kernel.invokeFunction(\n",
              "            'suggestCharts', [key], {});\n",
              "      } catch (error) {\n",
              "        console.error('Error during call to suggestCharts:', error);\n",
              "      }\n",
              "      quickchartButtonEl.classList.remove('colab-df-spinner');\n",
              "      quickchartButtonEl.classList.add('colab-df-quickchart-complete');\n",
              "    }\n",
              "    (() => {\n",
              "      let quickchartButtonEl =\n",
              "        document.querySelector('#df-ea2d4ff4-b082-43ed-befc-090b7c8d613f button');\n",
              "      quickchartButtonEl.style.display =\n",
              "        google.colab.kernel.accessAllowed ? 'block' : 'none';\n",
              "    })();\n",
              "  </script>\n",
              "</div>\n",
              "\n",
              "  <div id=\"id_fabc8f0d-4400-4e26-8f18-c44201703026\">\n",
              "    <style>\n",
              "      .colab-df-generate {\n",
              "        background-color: #E8F0FE;\n",
              "        border: none;\n",
              "        border-radius: 50%;\n",
              "        cursor: pointer;\n",
              "        display: none;\n",
              "        fill: #1967D2;\n",
              "        height: 32px;\n",
              "        padding: 0 0 0 0;\n",
              "        width: 32px;\n",
              "      }\n",
              "\n",
              "      .colab-df-generate:hover {\n",
              "        background-color: #E2EBFA;\n",
              "        box-shadow: 0px 1px 2px rgba(60, 64, 67, 0.3), 0px 1px 3px 1px rgba(60, 64, 67, 0.15);\n",
              "        fill: #174EA6;\n",
              "      }\n",
              "\n",
              "      [theme=dark] .colab-df-generate {\n",
              "        background-color: #3B4455;\n",
              "        fill: #D2E3FC;\n",
              "      }\n",
              "\n",
              "      [theme=dark] .colab-df-generate:hover {\n",
              "        background-color: #434B5C;\n",
              "        box-shadow: 0px 1px 3px 1px rgba(0, 0, 0, 0.15);\n",
              "        filter: drop-shadow(0px 1px 2px rgba(0, 0, 0, 0.3));\n",
              "        fill: #FFFFFF;\n",
              "      }\n",
              "    </style>\n",
              "    <button class=\"colab-df-generate\" onclick=\"generateWithVariable('df')\"\n",
              "            title=\"Generate code using this dataframe.\"\n",
              "            style=\"display:none;\">\n",
              "\n",
              "  <svg xmlns=\"http://www.w3.org/2000/svg\" height=\"24px\"viewBox=\"0 0 24 24\"\n",
              "       width=\"24px\">\n",
              "    <path d=\"M7,19H8.4L18.45,9,17,7.55,7,17.6ZM5,21V16.75L18.45,3.32a2,2,0,0,1,2.83,0l1.4,1.43a1.91,1.91,0,0,1,.58,1.4,1.91,1.91,0,0,1-.58,1.4L9.25,21ZM18.45,9,17,7.55Zm-12,3A5.31,5.31,0,0,0,4.9,8.1,5.31,5.31,0,0,0,1,6.5,5.31,5.31,0,0,0,4.9,4.9,5.31,5.31,0,0,0,6.5,1,5.31,5.31,0,0,0,8.1,4.9,5.31,5.31,0,0,0,12,6.5,5.46,5.46,0,0,0,6.5,12Z\"/>\n",
              "  </svg>\n",
              "    </button>\n",
              "    <script>\n",
              "      (() => {\n",
              "      const buttonEl =\n",
              "        document.querySelector('#id_fabc8f0d-4400-4e26-8f18-c44201703026 button.colab-df-generate');\n",
              "      buttonEl.style.display =\n",
              "        google.colab.kernel.accessAllowed ? 'block' : 'none';\n",
              "\n",
              "      buttonEl.onclick = () => {\n",
              "        google.colab.notebook.generateWithVariable('df');\n",
              "      }\n",
              "      })();\n",
              "    </script>\n",
              "  </div>\n",
              "\n",
              "    </div>\n",
              "  </div>\n"
            ],
            "application/vnd.google.colaboratory.intrinsic+json": {
              "type": "dataframe",
              "variable_name": "df",
              "summary": "{\n  \"name\": \"df\",\n  \"rows\": 3,\n  \"fields\": [\n    {\n      \"column\": \"Titulo\",\n      \"properties\": {\n        \"dtype\": \"string\",\n        \"num_unique_values\": 3,\n        \"samples\": [\n          \"Estilos Claros\",\n          \"Estilos \\u00c2mbar\",\n          \"Estilos Escuros\"\n        ],\n        \"semantic_type\": \"\",\n        \"description\": \"\"\n      }\n    },\n    {\n      \"column\": \"Conteudo\",\n      \"properties\": {\n        \"dtype\": \"string\",\n        \"num_unique_values\": 3,\n        \"samples\": [\n          \"estilo: American Light Lager, cor: Muito clara a amarelo claro,teor_alco\\u00f3lico: 2.8% a 4.2%, sensorial: Quase sem sabor, refrescante, levemente granulada ou com sabor de milho, exemplos: Bud Light, Coors Light, Miller Lite, estilo: American Lager,cor: Muito clara a amarelo m\\u00e9dio, teor_alco\\u00f3lico: 4.2% a 5.3%, sensorial: Sabor neutro, final seco, levemente granulada ou com sabor de milho, exemplos: Budweiser, Coors Original, Miller High Life, estilo: Cream Ale,cor: Clara a dourado claro,teor_alco\\u00f3lico: 4.2% a 5.6%, sensorial: Limpa, bem atenuada, saborosa, com mais car\\u00e1ter que as Lagers Americanas, exemplos: Genesee Cream Ale, Little Kings Cream Ale, estilo: American Wheat Beer, cor: Amarelo claro a dourado, teor_alco\\u00f3lico: 4.0% a 5.5%, sensorial: Refrescante, com sabor de trigo, perfil de fermenta\\u00e7\\u00e3o limpo e car\\u00e1ter de l\\u00fapulo vari\\u00e1vel, exemplos: Bell's Oberon, Boulevard Unfiltered Wheat Beer, Widmer Hefeweizen, estilo: International Pale Lager, cor: Clara a dourado, teor_alco\\u00f3lico: 4.5% a 6.0%, sensorial: Bem atenuada, sem sabores fortes, balanceada e altamente carbonatada, exemplos: Asahi Super Dry, Heineken, Corona Extra, estilo: Czech Pale Lager, cor: Amarelo claro a dourado profundo, teor_alco\\u00f3lico: 3.0% a 4.1%, sensorial: Corpo mais leve, rica, refrescante, lupulada, amarga, exemplos: Bernard sv\\u011btl\\u00e9 pivo 10, Radegast R\\u00e1zna 10, estilo: Czech Premium Pale Lager, cor: Amarelo m\\u00e9dio a dourado profundo, teor_alco\\u00f3lico: 4.2% a 5.8%, sensorial: Refrescante, com consider\\u00e1vel car\\u00e1ter de malte e l\\u00fapulo, final longo, exemplos: Pilsner Urquell, Budvar 33 sv\\u011btl\\u00fd le\\u017e\\u00e1k, estilo: Munich Helles, cor: Amarelo claro a dourado claro, teor_alco\\u00f3lico: 4.7% a 5.4%, sensorial: Sabor suave e maltado, final seco, l\\u00fapulos florais, condimentados ou herbais, exemplos: Augustiner Lagerbier Hell, Hacker-Pschorr M\\u00fcnchner Gold, Paulaner M\\u00fcnchner Lager, estilo: Festbier, cor: Amarelo profundo a dourado profundo, teor_alco\\u00f3lico: 5.8% a 6.3%, sensorial: Suave, limpa, com sabor de malte moderadamente forte e car\\u00e1ter de l\\u00fapulo leve, exemplos: Augustiner Oktoberfest, Hacker-Pschorr Superior Festbier, Paulaner Oktoberfest Bier, estilo: Helles Bock, cor: Dourado profundo a \\u00e2mbar claro, teor_alco\\u00f3lico: 6.3% a 7.4%, sensorial: Relativamente clara, forte, maltada, com final bem atenuado, exemplos: Ayinger Maibock, Einbecker Mai-Ur-Bock, Hofbr\\u00e4u Maibock, estilo: German Leichtbier, cor: Clara a amarelo profundo, teor_alco\\u00f3lico: 2.4% a 3.6%, sensorial: Clara, bem atenuada, com baixo teor alco\\u00f3lico, moderadamente amarga, exemplos: Autenrieder Schlossbr\\u00e4u Leicht, Greif Br\\u00e4u Leicht, estilo: K\\u00f6lsch, cor: Amarelo m\\u00e9dio a dourado claro, teor_alco\\u00f3lico: 4.4% a 5.2%, sensorial: Sutil, clara, com delicado equil\\u00edbrio de malte, frutas e l\\u00fapulo, exemplos: Fr\\u00fch K\\u00f6lsch, Gaffel K\\u00f6lsch, Reissdorf K\\u00f6lsch, estilo: German Helles Exportbier, cor: Clara a amarelo profundo, teor_alco\\u00f3lico: 4.4% a 5.2%, sensorial: Clara, seca, amarga, com aroma de l\\u00fapulo proeminente, exemplos: Bitburger Premium Pils, Jever Pilsener, K\\u00f6nig Pilsener, Warsteiner Premium Verum, estilo: Weissbier, cor: Clara a dourado, teor_alco\\u00f3lico: 4.3% a 5.6%, sensorial: Clara, refrescante, levemente lupulada, com perfil de fermenta\\u00e7\\u00e3o de levedura Weizen, exemplos: Schneider Weisse, Paulaner Hefe-Weissbier, Weihenstephaner Hefeweissbier, estilo: British Golden Ale, cor: Clara a dourada, teor_alco\\u00f3lico: 3.8% a 5.0%, sensorial: Lupulada, com teor alco\\u00f3lico m\\u00e9dio a moderadamente forte, refrescante, exemplos: Hop Back Summer Lightning, Fuller's Discovery, Badger Golden Champion, estilo: Blonde Ale, cor: Amarelo claro a dourado profundo, teor_alco\\u00f3lico: 3.8 \\u2013 5.5%, sensorial: Aroma maltado leve a moderado, geralmente neutro ou granulado, possivelmente com uma leve nota de p\\u00e3o ou caramelo. O frutado de baixo a moderado \\u00e9 opcional, mas aceit\\u00e1vel. exemplos: Firestone Walker 805, Kona Big Wave Golden Ale, Real Ale Firemans #4 Blonde Ale, Russian River Aud Blonde, Victory Summer Love, Widmer Citra Summer Blonde Brew, estilo: American Pale Ale, cor: Dourado p\\u00e1lido a \\u00e2mbar, teor_alco\\u00f3lico: 4.5 \\u2013 6.2%, sensorial: Aroma de l\\u00fapulo moderado a moderadamente alto de variedades de l\\u00fapulo americanas ou do Novo Mundo com uma ampla gama de caracter\\u00edsticas poss\\u00edveis, incluindo c\\u00edtrico, floral, pinho, resina, especiarias, frutas tropicais, frutas de caro\\u00e7o, frutas vermelhas ou mel\\u00e3o, exemplos: Deschutes Mirror Pond Pale Ale, Half Acre Daisy Cutter Pale Ale, Great Lakes Burning River, La Cumbre Acclimated APA, Sierra Nevada Pale Ale, Stone Pale Ale 2.0, estilo: American IPA, cor: M\\u00e9dio dourado a \\u00e2mbar avermelhado claro, teor_alco\\u00f3lico: 5.5 \\u2013 7.5%, sensorial: Um aroma de l\\u00fapulo proeminente a intenso, geralmente apresentando caracter\\u00edsticas de l\\u00fapulo americanas ou do Novo Mundo, como c\\u00edtrico, floral, pinho, resina, especiarias, frutas tropicais, frutas de caro\\u00e7o, frutas vermelhas ou mel\\u00e3o, exemplos: Bell\\u2019s Two-Hearted Ale, Cigar City Jai Alai, Fat Heads Head Hunter IPA, Firestone Walker Union Jack, Maine Lunch, Russian River Blind Pig IPA, estilo: White IPA, cor: Cor p\\u00e1lida a dourada profunda, teor_alco\\u00f3lico: 5.5 \\u2013 7.0%, sensorial: Uma vers\\u00e3o frutada, picante e refrescante de uma American IPA, mas com uma cor mais clara, menos corpo e apresentando as adi\\u00e7\\u00f5es distintas de levedura ou especiarias t\\u00edpicas de uma Witbier, exemplos: Lagunitas A Little Sumpin' Sumpin' Ale, New Belgium Accumulation, estilo: Brut IPA, cor: muito p\\u00e1lida, variando de palha muito p\\u00e1lido a dourado muito claro, teor_alco\\u00f3lico: 6.0 \\u2013 7.5%, sensorial: Uma variante da American IPA muito p\\u00e1lida e voltada para o l\\u00fapulo, com um final seco, carbonata\\u00e7\\u00e3o muito alta e um n\\u00edvel de amargor contido, exemplos: Drake\\u2019s Brightside Extra Brut IPA, Fair State Brewing Co-Op The Brut Squad, Ommegang Brut IPA, estilo: Hazy IPA, cor: Variando de palha a \\u00e2mbar muito claro, \\u00e0s vezes com um tom laranja, teor_alco\\u00f3lico: 6.0 \\u2013 9.0%, sensorial: Aroma intenso de l\\u00fapulo, com frutas de caro\\u00e7o, frutas tropicais, frutas c\\u00edtricas ou outras qualidades frutadas; n\\u00e3o gram\\u00edneo ou herbal. Malte limpo, neutro, granulado ou levemente p\\u00e3o no fundo; sem caramelo ou torradas, exemplos: Belching Beaver Hazers Gonna Haze, Hill Farmstead Susan, Other Half Green Diamonds Double IPA, Pinthouse Electric Jellyfish, Tree House Julius, Trillium Congress Street, WeldWerks Juicy Bits, estilo: Double IPA, cor: Dourado a cobre laranja claro, teor_alco\\u00f3lico: 7.5 \\u2013 10.0%, sensorial: Um aroma de l\\u00fapulo proeminente a intenso, tipicamente apresentando caracter\\u00edsticas de l\\u00fapulo americanas ou do Novo Mundo, como c\\u00edtrico, floral, pinho, resina, especiarias, frutas tropicais, frutas de caro\\u00e7o, frutas vermelhas ou mel\\u00e3o, exemplos: Columbus Brewing Bohdi, Fat Head\\u2019s Hop Juju, Port Brewing Hop-15, Russian River Pliny the Elder, Stone Ruination Double IPA 2.0, Wicked Weed Freak of Nature, estilo: Berliner Weisse, cor: amarelo Palha, teor_alco\\u00f3lico: 2.8 \\u2013 3.8%, sensorial: Um car\\u00e1ter azedo acentuado a moderadamente alto \\u00e9 dominante. Pode ter at\\u00e9 um frutado moderado, geralmente lim\\u00e3o, ma\\u00e7\\u00e3 \\u00e1cida, p\\u00eassego ou damasco e uma leve nota floral, exemplos: Bayerischer Bahnhof Berliner Style Weisse, Berliner Berg Berliner Weisse, Brauerei Meierei Wei\\u00dfe, Lemke Berlin Budike Weisse, Schell's Brewing Company Schelltheiss, Urban Chestnut Ku\\u2019damm\",\n          \"International Amber Lager, cor: \\u00c2mbar dourado a cobre avermelhado, teor_alco\\u00f3lico: 4.5% a 6.0%, sensorial: Suave, maltada, com sabor de caramelo ou tostado, exemplos: Brooklyn Lager, Dos Equis Amber, Yuengling Lage, nome: Czech Amber Lager, cor: \\u00c2mbar profundo a cobre, teor_alco\\u00f3lico: 4.4% a 5.8%, sensorial: Maltada, com car\\u00e1ter de l\\u00fapulo vari\\u00e1vel, pode ser seca, com sabor de p\\u00e3o ou doce e caramelada, exemplos: Bernard Jantarov\\u00fd le\\u017e\\u00e1k 12\\u00b0, Gambrinus Polotmav\\u00e1 12\\u00b0, nome: Rauchbier, cor: \\u00c2mbar profundo a marrom acobreado, teor_alco\\u00f3lico: 4.8% a 6%, sensorial: Defumada com madeira de faia, maltada, com perfil de M\\u00e4rzen e car\\u00e1ter de fuma\\u00e7a percept\\u00edvel a intenso, exemplos: Schlenkerla Rauchbier M\\u00e4rzen, Spezial Rauchbier M\\u00e4rzen, estilo: Vienna Lager, cor: \\u00c2mbar avermelhado claro a cobre, teor_alco\\u00f3lico: 4.7% a 5.5%, sensorial: \\u00c2mbar continental de for\\u00e7a moderada, com maltado suave e amargor equilibrad, exemplos: Negra Modelo, Devils Backbone Vienna Lager, Great Lakes Eliot Ness, estilo: Altbier, cor: \\u00c2mbar a cobre profundo, teor_alco\\u00f3lico: 4.3% a 5.5%, sensorial: Bem atenuada, amarga, com rico maltado equilibrando um forte amargor, exemplos: Diebels Alt, F\\u00fcchschen Alt, Uerige Altbier, estilo: Irish Red Ale, cor: \\u00c2mbar m\\u00e9dio a cobre avermelhado m\\u00e9dio, teor_alco\\u00f3lico: 3.8 \\u2013 5.0%, sensorial: Caramelo moderado a muito pouco e dul\\u00e7or, raramente com uma qualidade leve de torrada com manteiga ou toffee. O paladar geralmente \\u00e9 bastante neutro e granulado, ou pode assumir uma nota levemente tostada ou de biscoito ao terminar com um leve sabor de gr\\u00e3o torrado, que confere uma secura caracter\\u00edstica ao final, exemplos: Franciscan Well Rebel Red, Kilkenny Irish Beer, Murphy\\u2019s Irish Red, O\\u2019Hara\\u2019s Irish Red Ale, estilo: English IPA, cor: Dourada a \\u00e2mbar profundo, teor_alco\\u00f3lico: 5.0% a 7.5%, sensorial: Amarga, moderadamente forte, bem atenuada, com aroma e sabor de l\\u00fapulo, exemplos: Samuel Smith's India Ale, Fuller's IPA, Greene King IPA, estilo: English Barley Wine, cor: \\u00c2mbar dourado a marrom escuro, teor_alco\\u00f3lico: 8.0 \\u2013 12.0%, sensorial: Muito rico, fortemente maltado, geralmente com um aroma de caramelo nas vers\\u00f5es mais escuras ou um leve car\\u00e1ter de toffee nas vers\\u00f5es mais claras. Pode ter um car\\u00e1ter rico, incluindo notas de p\\u00e3o, torradas ou toffee, exemplos: Burton Bridge Thomas Sykes Old Ale, Coniston No. 9 Barley Wine, Fuller\\u2019s Golden Pride, Hogs Back A over T, J.W. Lee\\u2019s Vintage Harvest Ale, estilo: American Amber Ale, cor: \\u00c2mbar profundo a marrom acobreado, teor_alco\\u00f3lico: 4.5 \\u2013 6.2%, sensorial: Aroma de l\\u00fapulo baixo a moderado reflexivo de variedades de l\\u00fapulo americanas ou do Novo Mundo (c\\u00edtrico, floral, pinho, resina, especiarias, frutas tropicais, frutas de caro\\u00e7o, frutas vermelhas ou mel\\u00e3o), exemplos: Anderson Valley Boont Amber Ale, Bell\\u2019s Amber Ale, Full Sail Amber, estilo: Flanders Red Ale, cor: Vermelho profundo, teor_alco\\u00f3lico: 4.6 \\u2013 6.5%, sensorial: Perfil complexo frutado-azedo com malte de suporte. Frutado \\u00e9 alto e lembra cerejas pretas, laranjas, ameixas, groselhas ou couro de frutas, exemplos: Cuv\\u00e9e des Jacobins, Duchesse de Bourgogne, New Belgium La Folie, Rodenbach Classic, Rodenbach Grand Cru, Vichtenaar Flemish Ale, estilo: American Barleywine, cor: \\u00c2mbar a cobre m\\u00e9dio, teor_alco\\u00f3lico: 8.0 \\u2013 12.0%, sensorial: Aroma forte de malte e l\\u00fapulo domina. Os l\\u00fapulos s\\u00e3o moderados a assertivos, mostrando uma gama de caracter\\u00edsticas americanas, do Novo Mundo ou inglesas, exemplos: Anchor Old Foghorn, Bell\\u2019s Third Coast Old Ale, East End Gratitude, Hair of the Dog Doggie Claws, Sierra Nevada Bigfoot, estilo: Old Ale, cor: \\u00c2mbar profundo, teor_alco\\u00f3lico: 5.5 \\u2013 9.0%, sensorial:  vinhos, caramelo, mela\\u00e7o, toffee, leve mela\\u00e7o ou outros aromas de malte especiais, exemplos: Avery Old Jubilation, Berlina Old Ale, Greene King Strong Suffolk Ale, Marston Owd Roger, Theakston Old Peculie\",\n          \"International Dark Lager, cor: \\u00c2mbar profundo a marrom muito escuro, teor_alco\\u00f3lico: 4.2% a 6.0%, sensorial: Mais escura e doce que a International Pale Lager, com um pouco mais de corpo e sabor, exemplos: Baltika #4 Original, Heineken Dark Lager, Shiner Bock, estilo: Schwarzbier, cor: Marrom m\\u00e9dio a muito escuro, teor_alco\\u00f3lico: 4.4% a 5.4%, sensorial: Lager escura que equilibra sabores de malte torrado e suave com amargor moderado de l\\u00fapulo, exemplos: K\\u00f6stritzer Schwarzbier, M\\u00f6nchshof Schwarzbier, Xingu Black Beer, estilo: Doppelbock, cor: Cobre a marrom escuro, teor_alco\\u00f3lico: 7.0% a 10.0%, sensorial: Forte, rica, muito maltada, pode ser clara ou escura, exemplos: Paulaner Salvator, Ayinger Celebrator, Spaten Optimator, estilo: Eisbock, cor: Cobre profundo a marrom escuro, teor_alco\\u00f3lico: 9.0% a 14.0%, sensorial: Forte, encorpada, rica e maltada, frequentemente com qualidade viscosa e sabores fortes, exemplos: Kulmbacher Reichelbr\\u00e4u Eisbock, Schneider Aventinus Eisbock, estilo: Baltic Porter, cor: Cobre avermelhado escuro a marrom escuro opaco, teor_alco\\u00f3lico: 6.5% a 9.5%, sensorial: Forte, escura, maltada, com sabores complexos de frutas escuras e sabor torrado, exemplos: Sinebrychoff Porter, Okocim Porter, Aldaris Porteris, estilo: Dunkles Weissbier, cor: Cobre claro a marrom escuro, teor_alco\\u00f3lico: 4.3% a 5.6%, sensorial: Moderadamente escura, com perfil de fermenta\\u00e7\\u00e3o de levedura Weizen, sabor de p\\u00e3o torrado ou caramelo, exemplos: Franziskaner Hefe-Weisse Dunkel, Ayinger Ur-Weisse, Weihenstephaner Hefeweissbier Dunkel, estilo: British Brown Ale, cor: \\u00c2mbar escuro a marrom avermelhado escuro, teor_alco\\u00f3lico: 4.2% a 5.9%, sensorial: Maltada, caramelada, sem os sabores torrados de uma Porter, exemplos: Newcastle Brown Ale, Samuel Smith's Nut Brown Ale, Mann's Brown Ale, estilo: English Porter, cor: Marrom a marrom escuro, teor_alco\\u00f3lico: 4.0% a 5.4%, sensorial: Marrom escura, com car\\u00e1ter torrado e amargo moderado, exemplos: Fuller's London Porter, Samuel Smith's Taddy Porter, St. Peter's Old-Style Porter, estilo: Irish Stout, cor: Preto acastanhado a marrom escuro, teor_alco\\u00f3lico: 3.8 \\u2013 5.0%, sensorial: Aroma de caf\\u00e9 moderado normalmente domina; pode ter leves notas secund\\u00e1rias de chocolate amargo, cacau ou gr\\u00e3os torrados, exemplos: Beamish Irish Stout, Belhaven Black Stout, Guinness Draught, Murphy's Irish Stout, O\\u2019Hara\\u2019s Irish Stout, Porterhouse Irish Stout, estilo: Imperial Stout, cor: Marrom avermelhado muito escuro a preto, teor_alco\\u00f3lico: 8.0 \\u2013 12.0%, sensorial: Rico, profundo, complexo e frequentemente bastante intenso, com uma mistura agrad\\u00e1vel de torra, frutas, l\\u00fapulo e \\u00e1lcool, exemplos: Courage Imperial Russian Stout, North Coast Old Rasputin Imperial Stout, estilo: Belgian Dark Strong Ale, cor: \\u00c2mbar profundo a marrom acobreado profundo, teor_alco\\u00f3lico: 8.0 \\u2013 12.0%, sensorial: Uma mistura complexa e bastante intensa de rica maltosidade e frutas profundas, acentuada por fen\\u00f3is condimentados e \\u00e1lcooo, exemplos: Achel Extra Bruin, Boulevard The Sixth Glass, Chimay Blue, Rochefort 10, St. Bernardus Abt 12, Westvleteren 12\"\n        ],\n        \"semantic_type\": \"\",\n        \"description\": \"\"\n      }\n    }\n  ]\n}"
            }
          },
          "metadata": {},
          "execution_count": 336
        }
      ]
    },
    {
      "cell_type": "markdown",
      "source": [
        "#Ativação do modelo"
      ],
      "metadata": {
        "id": "q2cGwhUm87v3"
      }
    },
    {
      "cell_type": "code",
      "source": [
        "model = \"models/embedding-001\""
      ],
      "metadata": {
        "id": "Vm1ZIzyAGW3O"
      },
      "execution_count": 337,
      "outputs": []
    },
    {
      "cell_type": "markdown",
      "source": [
        "#Função do embedding"
      ],
      "metadata": {
        "id": "RNdhA6T3896M"
      }
    },
    {
      "cell_type": "code",
      "source": [
        "def embed_fn(title, text):\n",
        "  return genai.embed_content(model=model,\n",
        "                                 content=text,\n",
        "                                 title=title,\n",
        "                                 task_type=\"RETRIEVAL_DOCUMENT\")[\"embedding\"]"
      ],
      "metadata": {
        "id": "JEEF9B5LGxnK"
      },
      "execution_count": 338,
      "outputs": []
    },
    {
      "cell_type": "code",
      "source": [
        "df[\"Embeddings\"] = df.apply(lambda row: embed_fn(row[\"Titulo\"], row[\"Conteudo\"]), axis=1)\n",
        "df"
      ],
      "metadata": {
        "colab": {
          "base_uri": "https://localhost:8080/",
          "height": 143
        },
        "id": "pslQySVNHsK0",
        "outputId": "9e7a41a5-b0f4-4cef-8d46-d28911a8f4eb"
      },
      "execution_count": 339,
      "outputs": [
        {
          "output_type": "execute_result",
          "data": {
            "text/plain": [
              "            Titulo                                           Conteudo  \\\n",
              "0   Estilos Claros  estilo: American Light Lager, cor: Muito clara...   \n",
              "1    Estilos Âmbar  International Amber Lager, cor: Âmbar dourado ...   \n",
              "2  Estilos Escuros  International Dark Lager, cor: Âmbar profundo ...   \n",
              "\n",
              "                                          Embeddings  \n",
              "0  [0.019417606, -0.035390638, -0.067288384, 0.01...  \n",
              "1  [0.011511019, -0.067973435, -0.072866976, 0.00...  \n",
              "2  [0.021105897, -0.066400915, -0.09927632, 0.000...  "
            ],
            "text/html": [
              "\n",
              "  <div id=\"df-22fba4fd-a349-4544-a201-2b5b6b1fda85\" class=\"colab-df-container\">\n",
              "    <div>\n",
              "<style scoped>\n",
              "    .dataframe tbody tr th:only-of-type {\n",
              "        vertical-align: middle;\n",
              "    }\n",
              "\n",
              "    .dataframe tbody tr th {\n",
              "        vertical-align: top;\n",
              "    }\n",
              "\n",
              "    .dataframe thead th {\n",
              "        text-align: right;\n",
              "    }\n",
              "</style>\n",
              "<table border=\"1\" class=\"dataframe\">\n",
              "  <thead>\n",
              "    <tr style=\"text-align: right;\">\n",
              "      <th></th>\n",
              "      <th>Titulo</th>\n",
              "      <th>Conteudo</th>\n",
              "      <th>Embeddings</th>\n",
              "    </tr>\n",
              "  </thead>\n",
              "  <tbody>\n",
              "    <tr>\n",
              "      <th>0</th>\n",
              "      <td>Estilos Claros</td>\n",
              "      <td>estilo: American Light Lager, cor: Muito clara...</td>\n",
              "      <td>[0.019417606, -0.035390638, -0.067288384, 0.01...</td>\n",
              "    </tr>\n",
              "    <tr>\n",
              "      <th>1</th>\n",
              "      <td>Estilos Âmbar</td>\n",
              "      <td>International Amber Lager, cor: Âmbar dourado ...</td>\n",
              "      <td>[0.011511019, -0.067973435, -0.072866976, 0.00...</td>\n",
              "    </tr>\n",
              "    <tr>\n",
              "      <th>2</th>\n",
              "      <td>Estilos Escuros</td>\n",
              "      <td>International Dark Lager, cor: Âmbar profundo ...</td>\n",
              "      <td>[0.021105897, -0.066400915, -0.09927632, 0.000...</td>\n",
              "    </tr>\n",
              "  </tbody>\n",
              "</table>\n",
              "</div>\n",
              "    <div class=\"colab-df-buttons\">\n",
              "\n",
              "  <div class=\"colab-df-container\">\n",
              "    <button class=\"colab-df-convert\" onclick=\"convertToInteractive('df-22fba4fd-a349-4544-a201-2b5b6b1fda85')\"\n",
              "            title=\"Convert this dataframe to an interactive table.\"\n",
              "            style=\"display:none;\">\n",
              "\n",
              "  <svg xmlns=\"http://www.w3.org/2000/svg\" height=\"24px\" viewBox=\"0 -960 960 960\">\n",
              "    <path d=\"M120-120v-720h720v720H120Zm60-500h600v-160H180v160Zm220 220h160v-160H400v160Zm0 220h160v-160H400v160ZM180-400h160v-160H180v160Zm440 0h160v-160H620v160ZM180-180h160v-160H180v160Zm440 0h160v-160H620v160Z\"/>\n",
              "  </svg>\n",
              "    </button>\n",
              "\n",
              "  <style>\n",
              "    .colab-df-container {\n",
              "      display:flex;\n",
              "      gap: 12px;\n",
              "    }\n",
              "\n",
              "    .colab-df-convert {\n",
              "      background-color: #E8F0FE;\n",
              "      border: none;\n",
              "      border-radius: 50%;\n",
              "      cursor: pointer;\n",
              "      display: none;\n",
              "      fill: #1967D2;\n",
              "      height: 32px;\n",
              "      padding: 0 0 0 0;\n",
              "      width: 32px;\n",
              "    }\n",
              "\n",
              "    .colab-df-convert:hover {\n",
              "      background-color: #E2EBFA;\n",
              "      box-shadow: 0px 1px 2px rgba(60, 64, 67, 0.3), 0px 1px 3px 1px rgba(60, 64, 67, 0.15);\n",
              "      fill: #174EA6;\n",
              "    }\n",
              "\n",
              "    .colab-df-buttons div {\n",
              "      margin-bottom: 4px;\n",
              "    }\n",
              "\n",
              "    [theme=dark] .colab-df-convert {\n",
              "      background-color: #3B4455;\n",
              "      fill: #D2E3FC;\n",
              "    }\n",
              "\n",
              "    [theme=dark] .colab-df-convert:hover {\n",
              "      background-color: #434B5C;\n",
              "      box-shadow: 0px 1px 3px 1px rgba(0, 0, 0, 0.15);\n",
              "      filter: drop-shadow(0px 1px 2px rgba(0, 0, 0, 0.3));\n",
              "      fill: #FFFFFF;\n",
              "    }\n",
              "  </style>\n",
              "\n",
              "    <script>\n",
              "      const buttonEl =\n",
              "        document.querySelector('#df-22fba4fd-a349-4544-a201-2b5b6b1fda85 button.colab-df-convert');\n",
              "      buttonEl.style.display =\n",
              "        google.colab.kernel.accessAllowed ? 'block' : 'none';\n",
              "\n",
              "      async function convertToInteractive(key) {\n",
              "        const element = document.querySelector('#df-22fba4fd-a349-4544-a201-2b5b6b1fda85');\n",
              "        const dataTable =\n",
              "          await google.colab.kernel.invokeFunction('convertToInteractive',\n",
              "                                                    [key], {});\n",
              "        if (!dataTable) return;\n",
              "\n",
              "        const docLinkHtml = 'Like what you see? Visit the ' +\n",
              "          '<a target=\"_blank\" href=https://colab.research.google.com/notebooks/data_table.ipynb>data table notebook</a>'\n",
              "          + ' to learn more about interactive tables.';\n",
              "        element.innerHTML = '';\n",
              "        dataTable['output_type'] = 'display_data';\n",
              "        await google.colab.output.renderOutput(dataTable, element);\n",
              "        const docLink = document.createElement('div');\n",
              "        docLink.innerHTML = docLinkHtml;\n",
              "        element.appendChild(docLink);\n",
              "      }\n",
              "    </script>\n",
              "  </div>\n",
              "\n",
              "\n",
              "<div id=\"df-507dffdd-0a15-4f71-87cf-3b2179549ebc\">\n",
              "  <button class=\"colab-df-quickchart\" onclick=\"quickchart('df-507dffdd-0a15-4f71-87cf-3b2179549ebc')\"\n",
              "            title=\"Suggest charts\"\n",
              "            style=\"display:none;\">\n",
              "\n",
              "<svg xmlns=\"http://www.w3.org/2000/svg\" height=\"24px\"viewBox=\"0 0 24 24\"\n",
              "     width=\"24px\">\n",
              "    <g>\n",
              "        <path d=\"M19 3H5c-1.1 0-2 .9-2 2v14c0 1.1.9 2 2 2h14c1.1 0 2-.9 2-2V5c0-1.1-.9-2-2-2zM9 17H7v-7h2v7zm4 0h-2V7h2v10zm4 0h-2v-4h2v4z\"/>\n",
              "    </g>\n",
              "</svg>\n",
              "  </button>\n",
              "\n",
              "<style>\n",
              "  .colab-df-quickchart {\n",
              "      --bg-color: #E8F0FE;\n",
              "      --fill-color: #1967D2;\n",
              "      --hover-bg-color: #E2EBFA;\n",
              "      --hover-fill-color: #174EA6;\n",
              "      --disabled-fill-color: #AAA;\n",
              "      --disabled-bg-color: #DDD;\n",
              "  }\n",
              "\n",
              "  [theme=dark] .colab-df-quickchart {\n",
              "      --bg-color: #3B4455;\n",
              "      --fill-color: #D2E3FC;\n",
              "      --hover-bg-color: #434B5C;\n",
              "      --hover-fill-color: #FFFFFF;\n",
              "      --disabled-bg-color: #3B4455;\n",
              "      --disabled-fill-color: #666;\n",
              "  }\n",
              "\n",
              "  .colab-df-quickchart {\n",
              "    background-color: var(--bg-color);\n",
              "    border: none;\n",
              "    border-radius: 50%;\n",
              "    cursor: pointer;\n",
              "    display: none;\n",
              "    fill: var(--fill-color);\n",
              "    height: 32px;\n",
              "    padding: 0;\n",
              "    width: 32px;\n",
              "  }\n",
              "\n",
              "  .colab-df-quickchart:hover {\n",
              "    background-color: var(--hover-bg-color);\n",
              "    box-shadow: 0 1px 2px rgba(60, 64, 67, 0.3), 0 1px 3px 1px rgba(60, 64, 67, 0.15);\n",
              "    fill: var(--button-hover-fill-color);\n",
              "  }\n",
              "\n",
              "  .colab-df-quickchart-complete:disabled,\n",
              "  .colab-df-quickchart-complete:disabled:hover {\n",
              "    background-color: var(--disabled-bg-color);\n",
              "    fill: var(--disabled-fill-color);\n",
              "    box-shadow: none;\n",
              "  }\n",
              "\n",
              "  .colab-df-spinner {\n",
              "    border: 2px solid var(--fill-color);\n",
              "    border-color: transparent;\n",
              "    border-bottom-color: var(--fill-color);\n",
              "    animation:\n",
              "      spin 1s steps(1) infinite;\n",
              "  }\n",
              "\n",
              "  @keyframes spin {\n",
              "    0% {\n",
              "      border-color: transparent;\n",
              "      border-bottom-color: var(--fill-color);\n",
              "      border-left-color: var(--fill-color);\n",
              "    }\n",
              "    20% {\n",
              "      border-color: transparent;\n",
              "      border-left-color: var(--fill-color);\n",
              "      border-top-color: var(--fill-color);\n",
              "    }\n",
              "    30% {\n",
              "      border-color: transparent;\n",
              "      border-left-color: var(--fill-color);\n",
              "      border-top-color: var(--fill-color);\n",
              "      border-right-color: var(--fill-color);\n",
              "    }\n",
              "    40% {\n",
              "      border-color: transparent;\n",
              "      border-right-color: var(--fill-color);\n",
              "      border-top-color: var(--fill-color);\n",
              "    }\n",
              "    60% {\n",
              "      border-color: transparent;\n",
              "      border-right-color: var(--fill-color);\n",
              "    }\n",
              "    80% {\n",
              "      border-color: transparent;\n",
              "      border-right-color: var(--fill-color);\n",
              "      border-bottom-color: var(--fill-color);\n",
              "    }\n",
              "    90% {\n",
              "      border-color: transparent;\n",
              "      border-bottom-color: var(--fill-color);\n",
              "    }\n",
              "  }\n",
              "</style>\n",
              "\n",
              "  <script>\n",
              "    async function quickchart(key) {\n",
              "      const quickchartButtonEl =\n",
              "        document.querySelector('#' + key + ' button');\n",
              "      quickchartButtonEl.disabled = true;  // To prevent multiple clicks.\n",
              "      quickchartButtonEl.classList.add('colab-df-spinner');\n",
              "      try {\n",
              "        const charts = await google.colab.kernel.invokeFunction(\n",
              "            'suggestCharts', [key], {});\n",
              "      } catch (error) {\n",
              "        console.error('Error during call to suggestCharts:', error);\n",
              "      }\n",
              "      quickchartButtonEl.classList.remove('colab-df-spinner');\n",
              "      quickchartButtonEl.classList.add('colab-df-quickchart-complete');\n",
              "    }\n",
              "    (() => {\n",
              "      let quickchartButtonEl =\n",
              "        document.querySelector('#df-507dffdd-0a15-4f71-87cf-3b2179549ebc button');\n",
              "      quickchartButtonEl.style.display =\n",
              "        google.colab.kernel.accessAllowed ? 'block' : 'none';\n",
              "    })();\n",
              "  </script>\n",
              "</div>\n",
              "\n",
              "  <div id=\"id_685d313b-28d8-4de7-ac56-34a36b27c3f2\">\n",
              "    <style>\n",
              "      .colab-df-generate {\n",
              "        background-color: #E8F0FE;\n",
              "        border: none;\n",
              "        border-radius: 50%;\n",
              "        cursor: pointer;\n",
              "        display: none;\n",
              "        fill: #1967D2;\n",
              "        height: 32px;\n",
              "        padding: 0 0 0 0;\n",
              "        width: 32px;\n",
              "      }\n",
              "\n",
              "      .colab-df-generate:hover {\n",
              "        background-color: #E2EBFA;\n",
              "        box-shadow: 0px 1px 2px rgba(60, 64, 67, 0.3), 0px 1px 3px 1px rgba(60, 64, 67, 0.15);\n",
              "        fill: #174EA6;\n",
              "      }\n",
              "\n",
              "      [theme=dark] .colab-df-generate {\n",
              "        background-color: #3B4455;\n",
              "        fill: #D2E3FC;\n",
              "      }\n",
              "\n",
              "      [theme=dark] .colab-df-generate:hover {\n",
              "        background-color: #434B5C;\n",
              "        box-shadow: 0px 1px 3px 1px rgba(0, 0, 0, 0.15);\n",
              "        filter: drop-shadow(0px 1px 2px rgba(0, 0, 0, 0.3));\n",
              "        fill: #FFFFFF;\n",
              "      }\n",
              "    </style>\n",
              "    <button class=\"colab-df-generate\" onclick=\"generateWithVariable('df')\"\n",
              "            title=\"Generate code using this dataframe.\"\n",
              "            style=\"display:none;\">\n",
              "\n",
              "  <svg xmlns=\"http://www.w3.org/2000/svg\" height=\"24px\"viewBox=\"0 0 24 24\"\n",
              "       width=\"24px\">\n",
              "    <path d=\"M7,19H8.4L18.45,9,17,7.55,7,17.6ZM5,21V16.75L18.45,3.32a2,2,0,0,1,2.83,0l1.4,1.43a1.91,1.91,0,0,1,.58,1.4,1.91,1.91,0,0,1-.58,1.4L9.25,21ZM18.45,9,17,7.55Zm-12,3A5.31,5.31,0,0,0,4.9,8.1,5.31,5.31,0,0,0,1,6.5,5.31,5.31,0,0,0,4.9,4.9,5.31,5.31,0,0,0,6.5,1,5.31,5.31,0,0,0,8.1,4.9,5.31,5.31,0,0,0,12,6.5,5.46,5.46,0,0,0,6.5,12Z\"/>\n",
              "  </svg>\n",
              "    </button>\n",
              "    <script>\n",
              "      (() => {\n",
              "      const buttonEl =\n",
              "        document.querySelector('#id_685d313b-28d8-4de7-ac56-34a36b27c3f2 button.colab-df-generate');\n",
              "      buttonEl.style.display =\n",
              "        google.colab.kernel.accessAllowed ? 'block' : 'none';\n",
              "\n",
              "      buttonEl.onclick = () => {\n",
              "        google.colab.notebook.generateWithVariable('df');\n",
              "      }\n",
              "      })();\n",
              "    </script>\n",
              "  </div>\n",
              "\n",
              "    </div>\n",
              "  </div>\n"
            ],
            "application/vnd.google.colaboratory.intrinsic+json": {
              "type": "dataframe",
              "variable_name": "df",
              "summary": "{\n  \"name\": \"df\",\n  \"rows\": 3,\n  \"fields\": [\n    {\n      \"column\": \"Titulo\",\n      \"properties\": {\n        \"dtype\": \"string\",\n        \"num_unique_values\": 3,\n        \"samples\": [\n          \"Estilos Claros\",\n          \"Estilos \\u00c2mbar\",\n          \"Estilos Escuros\"\n        ],\n        \"semantic_type\": \"\",\n        \"description\": \"\"\n      }\n    },\n    {\n      \"column\": \"Conteudo\",\n      \"properties\": {\n        \"dtype\": \"string\",\n        \"num_unique_values\": 3,\n        \"samples\": [\n          \"estilo: American Light Lager, cor: Muito clara a amarelo claro,teor_alco\\u00f3lico: 2.8% a 4.2%, sensorial: Quase sem sabor, refrescante, levemente granulada ou com sabor de milho, exemplos: Bud Light, Coors Light, Miller Lite, estilo: American Lager,cor: Muito clara a amarelo m\\u00e9dio, teor_alco\\u00f3lico: 4.2% a 5.3%, sensorial: Sabor neutro, final seco, levemente granulada ou com sabor de milho, exemplos: Budweiser, Coors Original, Miller High Life, estilo: Cream Ale,cor: Clara a dourado claro,teor_alco\\u00f3lico: 4.2% a 5.6%, sensorial: Limpa, bem atenuada, saborosa, com mais car\\u00e1ter que as Lagers Americanas, exemplos: Genesee Cream Ale, Little Kings Cream Ale, estilo: American Wheat Beer, cor: Amarelo claro a dourado, teor_alco\\u00f3lico: 4.0% a 5.5%, sensorial: Refrescante, com sabor de trigo, perfil de fermenta\\u00e7\\u00e3o limpo e car\\u00e1ter de l\\u00fapulo vari\\u00e1vel, exemplos: Bell's Oberon, Boulevard Unfiltered Wheat Beer, Widmer Hefeweizen, estilo: International Pale Lager, cor: Clara a dourado, teor_alco\\u00f3lico: 4.5% a 6.0%, sensorial: Bem atenuada, sem sabores fortes, balanceada e altamente carbonatada, exemplos: Asahi Super Dry, Heineken, Corona Extra, estilo: Czech Pale Lager, cor: Amarelo claro a dourado profundo, teor_alco\\u00f3lico: 3.0% a 4.1%, sensorial: Corpo mais leve, rica, refrescante, lupulada, amarga, exemplos: Bernard sv\\u011btl\\u00e9 pivo 10, Radegast R\\u00e1zna 10, estilo: Czech Premium Pale Lager, cor: Amarelo m\\u00e9dio a dourado profundo, teor_alco\\u00f3lico: 4.2% a 5.8%, sensorial: Refrescante, com consider\\u00e1vel car\\u00e1ter de malte e l\\u00fapulo, final longo, exemplos: Pilsner Urquell, Budvar 33 sv\\u011btl\\u00fd le\\u017e\\u00e1k, estilo: Munich Helles, cor: Amarelo claro a dourado claro, teor_alco\\u00f3lico: 4.7% a 5.4%, sensorial: Sabor suave e maltado, final seco, l\\u00fapulos florais, condimentados ou herbais, exemplos: Augustiner Lagerbier Hell, Hacker-Pschorr M\\u00fcnchner Gold, Paulaner M\\u00fcnchner Lager, estilo: Festbier, cor: Amarelo profundo a dourado profundo, teor_alco\\u00f3lico: 5.8% a 6.3%, sensorial: Suave, limpa, com sabor de malte moderadamente forte e car\\u00e1ter de l\\u00fapulo leve, exemplos: Augustiner Oktoberfest, Hacker-Pschorr Superior Festbier, Paulaner Oktoberfest Bier, estilo: Helles Bock, cor: Dourado profundo a \\u00e2mbar claro, teor_alco\\u00f3lico: 6.3% a 7.4%, sensorial: Relativamente clara, forte, maltada, com final bem atenuado, exemplos: Ayinger Maibock, Einbecker Mai-Ur-Bock, Hofbr\\u00e4u Maibock, estilo: German Leichtbier, cor: Clara a amarelo profundo, teor_alco\\u00f3lico: 2.4% a 3.6%, sensorial: Clara, bem atenuada, com baixo teor alco\\u00f3lico, moderadamente amarga, exemplos: Autenrieder Schlossbr\\u00e4u Leicht, Greif Br\\u00e4u Leicht, estilo: K\\u00f6lsch, cor: Amarelo m\\u00e9dio a dourado claro, teor_alco\\u00f3lico: 4.4% a 5.2%, sensorial: Sutil, clara, com delicado equil\\u00edbrio de malte, frutas e l\\u00fapulo, exemplos: Fr\\u00fch K\\u00f6lsch, Gaffel K\\u00f6lsch, Reissdorf K\\u00f6lsch, estilo: German Helles Exportbier, cor: Clara a amarelo profundo, teor_alco\\u00f3lico: 4.4% a 5.2%, sensorial: Clara, seca, amarga, com aroma de l\\u00fapulo proeminente, exemplos: Bitburger Premium Pils, Jever Pilsener, K\\u00f6nig Pilsener, Warsteiner Premium Verum, estilo: Weissbier, cor: Clara a dourado, teor_alco\\u00f3lico: 4.3% a 5.6%, sensorial: Clara, refrescante, levemente lupulada, com perfil de fermenta\\u00e7\\u00e3o de levedura Weizen, exemplos: Schneider Weisse, Paulaner Hefe-Weissbier, Weihenstephaner Hefeweissbier, estilo: British Golden Ale, cor: Clara a dourada, teor_alco\\u00f3lico: 3.8% a 5.0%, sensorial: Lupulada, com teor alco\\u00f3lico m\\u00e9dio a moderadamente forte, refrescante, exemplos: Hop Back Summer Lightning, Fuller's Discovery, Badger Golden Champion, estilo: Blonde Ale, cor: Amarelo claro a dourado profundo, teor_alco\\u00f3lico: 3.8 \\u2013 5.5%, sensorial: Aroma maltado leve a moderado, geralmente neutro ou granulado, possivelmente com uma leve nota de p\\u00e3o ou caramelo. O frutado de baixo a moderado \\u00e9 opcional, mas aceit\\u00e1vel. exemplos: Firestone Walker 805, Kona Big Wave Golden Ale, Real Ale Firemans #4 Blonde Ale, Russian River Aud Blonde, Victory Summer Love, Widmer Citra Summer Blonde Brew, estilo: American Pale Ale, cor: Dourado p\\u00e1lido a \\u00e2mbar, teor_alco\\u00f3lico: 4.5 \\u2013 6.2%, sensorial: Aroma de l\\u00fapulo moderado a moderadamente alto de variedades de l\\u00fapulo americanas ou do Novo Mundo com uma ampla gama de caracter\\u00edsticas poss\\u00edveis, incluindo c\\u00edtrico, floral, pinho, resina, especiarias, frutas tropicais, frutas de caro\\u00e7o, frutas vermelhas ou mel\\u00e3o, exemplos: Deschutes Mirror Pond Pale Ale, Half Acre Daisy Cutter Pale Ale, Great Lakes Burning River, La Cumbre Acclimated APA, Sierra Nevada Pale Ale, Stone Pale Ale 2.0, estilo: American IPA, cor: M\\u00e9dio dourado a \\u00e2mbar avermelhado claro, teor_alco\\u00f3lico: 5.5 \\u2013 7.5%, sensorial: Um aroma de l\\u00fapulo proeminente a intenso, geralmente apresentando caracter\\u00edsticas de l\\u00fapulo americanas ou do Novo Mundo, como c\\u00edtrico, floral, pinho, resina, especiarias, frutas tropicais, frutas de caro\\u00e7o, frutas vermelhas ou mel\\u00e3o, exemplos: Bell\\u2019s Two-Hearted Ale, Cigar City Jai Alai, Fat Heads Head Hunter IPA, Firestone Walker Union Jack, Maine Lunch, Russian River Blind Pig IPA, estilo: White IPA, cor: Cor p\\u00e1lida a dourada profunda, teor_alco\\u00f3lico: 5.5 \\u2013 7.0%, sensorial: Uma vers\\u00e3o frutada, picante e refrescante de uma American IPA, mas com uma cor mais clara, menos corpo e apresentando as adi\\u00e7\\u00f5es distintas de levedura ou especiarias t\\u00edpicas de uma Witbier, exemplos: Lagunitas A Little Sumpin' Sumpin' Ale, New Belgium Accumulation, estilo: Brut IPA, cor: muito p\\u00e1lida, variando de palha muito p\\u00e1lido a dourado muito claro, teor_alco\\u00f3lico: 6.0 \\u2013 7.5%, sensorial: Uma variante da American IPA muito p\\u00e1lida e voltada para o l\\u00fapulo, com um final seco, carbonata\\u00e7\\u00e3o muito alta e um n\\u00edvel de amargor contido, exemplos: Drake\\u2019s Brightside Extra Brut IPA, Fair State Brewing Co-Op The Brut Squad, Ommegang Brut IPA, estilo: Hazy IPA, cor: Variando de palha a \\u00e2mbar muito claro, \\u00e0s vezes com um tom laranja, teor_alco\\u00f3lico: 6.0 \\u2013 9.0%, sensorial: Aroma intenso de l\\u00fapulo, com frutas de caro\\u00e7o, frutas tropicais, frutas c\\u00edtricas ou outras qualidades frutadas; n\\u00e3o gram\\u00edneo ou herbal. Malte limpo, neutro, granulado ou levemente p\\u00e3o no fundo; sem caramelo ou torradas, exemplos: Belching Beaver Hazers Gonna Haze, Hill Farmstead Susan, Other Half Green Diamonds Double IPA, Pinthouse Electric Jellyfish, Tree House Julius, Trillium Congress Street, WeldWerks Juicy Bits, estilo: Double IPA, cor: Dourado a cobre laranja claro, teor_alco\\u00f3lico: 7.5 \\u2013 10.0%, sensorial: Um aroma de l\\u00fapulo proeminente a intenso, tipicamente apresentando caracter\\u00edsticas de l\\u00fapulo americanas ou do Novo Mundo, como c\\u00edtrico, floral, pinho, resina, especiarias, frutas tropicais, frutas de caro\\u00e7o, frutas vermelhas ou mel\\u00e3o, exemplos: Columbus Brewing Bohdi, Fat Head\\u2019s Hop Juju, Port Brewing Hop-15, Russian River Pliny the Elder, Stone Ruination Double IPA 2.0, Wicked Weed Freak of Nature, estilo: Berliner Weisse, cor: amarelo Palha, teor_alco\\u00f3lico: 2.8 \\u2013 3.8%, sensorial: Um car\\u00e1ter azedo acentuado a moderadamente alto \\u00e9 dominante. Pode ter at\\u00e9 um frutado moderado, geralmente lim\\u00e3o, ma\\u00e7\\u00e3 \\u00e1cida, p\\u00eassego ou damasco e uma leve nota floral, exemplos: Bayerischer Bahnhof Berliner Style Weisse, Berliner Berg Berliner Weisse, Brauerei Meierei Wei\\u00dfe, Lemke Berlin Budike Weisse, Schell's Brewing Company Schelltheiss, Urban Chestnut Ku\\u2019damm\",\n          \"International Amber Lager, cor: \\u00c2mbar dourado a cobre avermelhado, teor_alco\\u00f3lico: 4.5% a 6.0%, sensorial: Suave, maltada, com sabor de caramelo ou tostado, exemplos: Brooklyn Lager, Dos Equis Amber, Yuengling Lage, nome: Czech Amber Lager, cor: \\u00c2mbar profundo a cobre, teor_alco\\u00f3lico: 4.4% a 5.8%, sensorial: Maltada, com car\\u00e1ter de l\\u00fapulo vari\\u00e1vel, pode ser seca, com sabor de p\\u00e3o ou doce e caramelada, exemplos: Bernard Jantarov\\u00fd le\\u017e\\u00e1k 12\\u00b0, Gambrinus Polotmav\\u00e1 12\\u00b0, nome: Rauchbier, cor: \\u00c2mbar profundo a marrom acobreado, teor_alco\\u00f3lico: 4.8% a 6%, sensorial: Defumada com madeira de faia, maltada, com perfil de M\\u00e4rzen e car\\u00e1ter de fuma\\u00e7a percept\\u00edvel a intenso, exemplos: Schlenkerla Rauchbier M\\u00e4rzen, Spezial Rauchbier M\\u00e4rzen, estilo: Vienna Lager, cor: \\u00c2mbar avermelhado claro a cobre, teor_alco\\u00f3lico: 4.7% a 5.5%, sensorial: \\u00c2mbar continental de for\\u00e7a moderada, com maltado suave e amargor equilibrad, exemplos: Negra Modelo, Devils Backbone Vienna Lager, Great Lakes Eliot Ness, estilo: Altbier, cor: \\u00c2mbar a cobre profundo, teor_alco\\u00f3lico: 4.3% a 5.5%, sensorial: Bem atenuada, amarga, com rico maltado equilibrando um forte amargor, exemplos: Diebels Alt, F\\u00fcchschen Alt, Uerige Altbier, estilo: Irish Red Ale, cor: \\u00c2mbar m\\u00e9dio a cobre avermelhado m\\u00e9dio, teor_alco\\u00f3lico: 3.8 \\u2013 5.0%, sensorial: Caramelo moderado a muito pouco e dul\\u00e7or, raramente com uma qualidade leve de torrada com manteiga ou toffee. O paladar geralmente \\u00e9 bastante neutro e granulado, ou pode assumir uma nota levemente tostada ou de biscoito ao terminar com um leve sabor de gr\\u00e3o torrado, que confere uma secura caracter\\u00edstica ao final, exemplos: Franciscan Well Rebel Red, Kilkenny Irish Beer, Murphy\\u2019s Irish Red, O\\u2019Hara\\u2019s Irish Red Ale, estilo: English IPA, cor: Dourada a \\u00e2mbar profundo, teor_alco\\u00f3lico: 5.0% a 7.5%, sensorial: Amarga, moderadamente forte, bem atenuada, com aroma e sabor de l\\u00fapulo, exemplos: Samuel Smith's India Ale, Fuller's IPA, Greene King IPA, estilo: English Barley Wine, cor: \\u00c2mbar dourado a marrom escuro, teor_alco\\u00f3lico: 8.0 \\u2013 12.0%, sensorial: Muito rico, fortemente maltado, geralmente com um aroma de caramelo nas vers\\u00f5es mais escuras ou um leve car\\u00e1ter de toffee nas vers\\u00f5es mais claras. Pode ter um car\\u00e1ter rico, incluindo notas de p\\u00e3o, torradas ou toffee, exemplos: Burton Bridge Thomas Sykes Old Ale, Coniston No. 9 Barley Wine, Fuller\\u2019s Golden Pride, Hogs Back A over T, J.W. Lee\\u2019s Vintage Harvest Ale, estilo: American Amber Ale, cor: \\u00c2mbar profundo a marrom acobreado, teor_alco\\u00f3lico: 4.5 \\u2013 6.2%, sensorial: Aroma de l\\u00fapulo baixo a moderado reflexivo de variedades de l\\u00fapulo americanas ou do Novo Mundo (c\\u00edtrico, floral, pinho, resina, especiarias, frutas tropicais, frutas de caro\\u00e7o, frutas vermelhas ou mel\\u00e3o), exemplos: Anderson Valley Boont Amber Ale, Bell\\u2019s Amber Ale, Full Sail Amber, estilo: Flanders Red Ale, cor: Vermelho profundo, teor_alco\\u00f3lico: 4.6 \\u2013 6.5%, sensorial: Perfil complexo frutado-azedo com malte de suporte. Frutado \\u00e9 alto e lembra cerejas pretas, laranjas, ameixas, groselhas ou couro de frutas, exemplos: Cuv\\u00e9e des Jacobins, Duchesse de Bourgogne, New Belgium La Folie, Rodenbach Classic, Rodenbach Grand Cru, Vichtenaar Flemish Ale, estilo: American Barleywine, cor: \\u00c2mbar a cobre m\\u00e9dio, teor_alco\\u00f3lico: 8.0 \\u2013 12.0%, sensorial: Aroma forte de malte e l\\u00fapulo domina. Os l\\u00fapulos s\\u00e3o moderados a assertivos, mostrando uma gama de caracter\\u00edsticas americanas, do Novo Mundo ou inglesas, exemplos: Anchor Old Foghorn, Bell\\u2019s Third Coast Old Ale, East End Gratitude, Hair of the Dog Doggie Claws, Sierra Nevada Bigfoot, estilo: Old Ale, cor: \\u00c2mbar profundo, teor_alco\\u00f3lico: 5.5 \\u2013 9.0%, sensorial:  vinhos, caramelo, mela\\u00e7o, toffee, leve mela\\u00e7o ou outros aromas de malte especiais, exemplos: Avery Old Jubilation, Berlina Old Ale, Greene King Strong Suffolk Ale, Marston Owd Roger, Theakston Old Peculie\",\n          \"International Dark Lager, cor: \\u00c2mbar profundo a marrom muito escuro, teor_alco\\u00f3lico: 4.2% a 6.0%, sensorial: Mais escura e doce que a International Pale Lager, com um pouco mais de corpo e sabor, exemplos: Baltika #4 Original, Heineken Dark Lager, Shiner Bock, estilo: Schwarzbier, cor: Marrom m\\u00e9dio a muito escuro, teor_alco\\u00f3lico: 4.4% a 5.4%, sensorial: Lager escura que equilibra sabores de malte torrado e suave com amargor moderado de l\\u00fapulo, exemplos: K\\u00f6stritzer Schwarzbier, M\\u00f6nchshof Schwarzbier, Xingu Black Beer, estilo: Doppelbock, cor: Cobre a marrom escuro, teor_alco\\u00f3lico: 7.0% a 10.0%, sensorial: Forte, rica, muito maltada, pode ser clara ou escura, exemplos: Paulaner Salvator, Ayinger Celebrator, Spaten Optimator, estilo: Eisbock, cor: Cobre profundo a marrom escuro, teor_alco\\u00f3lico: 9.0% a 14.0%, sensorial: Forte, encorpada, rica e maltada, frequentemente com qualidade viscosa e sabores fortes, exemplos: Kulmbacher Reichelbr\\u00e4u Eisbock, Schneider Aventinus Eisbock, estilo: Baltic Porter, cor: Cobre avermelhado escuro a marrom escuro opaco, teor_alco\\u00f3lico: 6.5% a 9.5%, sensorial: Forte, escura, maltada, com sabores complexos de frutas escuras e sabor torrado, exemplos: Sinebrychoff Porter, Okocim Porter, Aldaris Porteris, estilo: Dunkles Weissbier, cor: Cobre claro a marrom escuro, teor_alco\\u00f3lico: 4.3% a 5.6%, sensorial: Moderadamente escura, com perfil de fermenta\\u00e7\\u00e3o de levedura Weizen, sabor de p\\u00e3o torrado ou caramelo, exemplos: Franziskaner Hefe-Weisse Dunkel, Ayinger Ur-Weisse, Weihenstephaner Hefeweissbier Dunkel, estilo: British Brown Ale, cor: \\u00c2mbar escuro a marrom avermelhado escuro, teor_alco\\u00f3lico: 4.2% a 5.9%, sensorial: Maltada, caramelada, sem os sabores torrados de uma Porter, exemplos: Newcastle Brown Ale, Samuel Smith's Nut Brown Ale, Mann's Brown Ale, estilo: English Porter, cor: Marrom a marrom escuro, teor_alco\\u00f3lico: 4.0% a 5.4%, sensorial: Marrom escura, com car\\u00e1ter torrado e amargo moderado, exemplos: Fuller's London Porter, Samuel Smith's Taddy Porter, St. Peter's Old-Style Porter, estilo: Irish Stout, cor: Preto acastanhado a marrom escuro, teor_alco\\u00f3lico: 3.8 \\u2013 5.0%, sensorial: Aroma de caf\\u00e9 moderado normalmente domina; pode ter leves notas secund\\u00e1rias de chocolate amargo, cacau ou gr\\u00e3os torrados, exemplos: Beamish Irish Stout, Belhaven Black Stout, Guinness Draught, Murphy's Irish Stout, O\\u2019Hara\\u2019s Irish Stout, Porterhouse Irish Stout, estilo: Imperial Stout, cor: Marrom avermelhado muito escuro a preto, teor_alco\\u00f3lico: 8.0 \\u2013 12.0%, sensorial: Rico, profundo, complexo e frequentemente bastante intenso, com uma mistura agrad\\u00e1vel de torra, frutas, l\\u00fapulo e \\u00e1lcool, exemplos: Courage Imperial Russian Stout, North Coast Old Rasputin Imperial Stout, estilo: Belgian Dark Strong Ale, cor: \\u00c2mbar profundo a marrom acobreado profundo, teor_alco\\u00f3lico: 8.0 \\u2013 12.0%, sensorial: Uma mistura complexa e bastante intensa de rica maltosidade e frutas profundas, acentuada por fen\\u00f3is condimentados e \\u00e1lcooo, exemplos: Achel Extra Bruin, Boulevard The Sixth Glass, Chimay Blue, Rochefort 10, St. Bernardus Abt 12, Westvleteren 12\"\n        ],\n        \"semantic_type\": \"\",\n        \"description\": \"\"\n      }\n    },\n    {\n      \"column\": \"Embeddings\",\n      \"properties\": {\n        \"dtype\": \"object\",\n        \"semantic_type\": \"\",\n        \"description\": \"\"\n      }\n    }\n  ]\n}"
            }
          },
          "metadata": {},
          "execution_count": 339
        }
      ]
    },
    {
      "cell_type": "markdown",
      "source": [
        "#Colher os atributos de cor, teor alcoólico e sabor predominante da cerveja"
      ],
      "metadata": {
        "id": "Vn3gasDL9AEL"
      }
    },
    {
      "cell_type": "code",
      "source": [
        "def gerar_e_buscar_consulta(consulta, base, model):\n",
        "  embedding_da_consulta = genai.embed_content(model=model,\n",
        "                                 content=consulta,\n",
        "                                 task_type=\"RETRIEVAL_QUERY\")[\"embedding\"]\n",
        "\n",
        "  produtos_escalares = np.dot(np.stack(df[\"Embeddings\"]), embedding_da_consulta)\n",
        "\n",
        "  indice = np.argmax(produtos_escalares)\n",
        "  return df.iloc[indice][\"Conteudo\"]\n",
        "\n",
        "\n",
        "def extrair_estilo_cerveja(texto, cor, teor_alcoolico, sabor):\n",
        "  \"\"\"Extrai o estilo de cerveja mais relevante do texto.\"\"\"\n",
        "  estilos = re.findall(r\"(.*?), estilo: \", texto)\n",
        "  melhor_estilo = None\n",
        "  melhor_pontuacao = 0\n",
        "\n",
        "  for estilo in estilos:\n",
        "    pontuacao = 0\n",
        "\n",
        "    # Pontuação baseada na cor\n",
        "    if cor.lower() in estilo.lower():\n",
        "      pontuacao += 3\n",
        "\n",
        "    # Pontuação baseada no teor alcoólico\n",
        "    if teor_alcoolico.lower() in estilo.lower():\n",
        "      pontuacao += 2\n",
        "\n",
        "    # Pontuação baseada no sabor\n",
        "    if sabor in estilo.lower():\n",
        "      pontuacao += 1\n",
        "\n",
        "    if pontuacao > melhor_pontuacao:\n",
        "      melhor_pontuacao = pontuacao\n",
        "      melhor_estilo = estilo\n",
        "\n",
        "  return melhor_estilo\n",
        "\n",
        "def obter_caracteristicas_cerveja():\n",
        "  \"\"\"Pede ao usuário as características da cerveja desejada.\"\"\"\n",
        "  cor = input(\"Digite a cor da cerveja (Clara, Âmbar, Escura): \").strip().capitalize()\n",
        "\n",
        "  while True:\n",
        "    teor_alcoolico = input(\"Digite o teor alcoólico (<4%, 4%-6%, 6%-9%, >9%): \").strip().capitalize()\n",
        "    if teor_alcoolico in [\"<4%\", \"4%-6%\", \"6%-9%\", \">9%\"]:\n",
        "      break\n",
        "    else:\n",
        "      print(\"Teor alcoólico inválido. Escolha entre: <4%, 4%-6%, 6%-9%, >9%\")\n",
        "\n",
        "  while True:\n",
        "    sabor = input(\"Digite o sabor dominante (maltado, amargo, equilibrado, lupulado, tostado, doce, defumado, ácido, amadeirado, frutado, condimentado): \").strip().lower()\n",
        "    if sabor in [\"maltado\", \"amargo\", \"equilibrado\", \"lupulado\", \"tostado\", \"doce\", \"defumado\", \"ácido\", \"amadeirado\", \"frutado\", \"condimentado\"]:\n",
        "      break\n",
        "    else:\n",
        "      print(\"Sabor inválido. Escolha entre: maltado, amargo, equilibrado, lupulado, tostado, doce, defumado, ácido, amadeirado, frutado, condimentado\")\n",
        "\n",
        "  return cor, teor_alcoolico, sabor\n",
        "\n",
        "cor, teor_alcoolico, sabor = obter_caracteristicas_cerveja()"
      ],
      "metadata": {
        "colab": {
          "base_uri": "https://localhost:8080/"
        },
        "id": "amY3ptmfJCHQ",
        "outputId": "62a32008-38a9-41b1-f85c-11d914ca8778"
      },
      "execution_count": 354,
      "outputs": [
        {
          "name": "stdout",
          "output_type": "stream",
          "text": [
            "Digite a cor da cerveja (Clara, Âmbar, Escura): Âmbar\n",
            "Digite o teor alcoólico (<4%, 4%-6%, 6%-9%, >9%): 6%-9%\n",
            "Digite o sabor dominante (maltado, amargo, equilibrado, lupulado, tostado, doce, defumado, ácido, amadeirado, frutado, condimentado): frutado\n"
          ]
        }
      ]
    },
    {
      "cell_type": "markdown",
      "source": [
        "#Consulta dos documentos"
      ],
      "metadata": {
        "id": "VADuZTE89O9l"
      }
    },
    {
      "cell_type": "code",
      "source": [
        "consulta = f\"Cerveja {cor} com teor alcoólico {teor_alcoolico} e sabor {sabor}\"\n",
        "resultado = gerar_e_buscar_consulta(consulta, df, model)\n",
        "print(f\"\\nSugestão de estilo de cerveja: \\n\\n{resultado}\")"
      ],
      "metadata": {
        "colab": {
          "base_uri": "https://localhost:8080/",
          "height": 106
        },
        "id": "vJ3r8pHVLi25",
        "outputId": "4fa7c3fa-4d66-449d-8d65-164b27e72fe9"
      },
      "execution_count": 357,
      "outputs": [
        {
          "output_type": "stream",
          "name": "stdout",
          "text": [
            "\n",
            "Sugestão de estilo de cerveja: \n",
            "\n",
            "International Amber Lager, cor: Âmbar dourado a cobre avermelhado, teor_alcoólico: 4.5% a 6.0%, sensorial: Suave, maltada, com sabor de caramelo ou tostado, exemplos: Brooklyn Lager, Dos Equis Amber, Yuengling Lage, nome: Czech Amber Lager, cor: Âmbar profundo a cobre, teor_alcoólico: 4.4% a 5.8%, sensorial: Maltada, com caráter de lúpulo variável, pode ser seca, com sabor de pão ou doce e caramelada, exemplos: Bernard Jantarový ležák 12°, Gambrinus Polotmavá 12°, nome: Rauchbier, cor: Âmbar profundo a marrom acobreado, teor_alcoólico: 4.8% a 6%, sensorial: Defumada com madeira de faia, maltada, com perfil de Märzen e caráter de fumaça perceptível a intenso, exemplos: Schlenkerla Rauchbier Märzen, Spezial Rauchbier Märzen, estilo: Vienna Lager, cor: Âmbar avermelhado claro a cobre, teor_alcoólico: 4.7% a 5.5%, sensorial: Âmbar continental de força moderada, com maltado suave e amargor equilibrad, exemplos: Negra Modelo, Devils Backbone Vienna Lager, Great Lakes Eliot Ness, estilo: Altbier, cor: Âmbar a cobre profundo, teor_alcoólico: 4.3% a 5.5%, sensorial: Bem atenuada, amarga, com rico maltado equilibrando um forte amargor, exemplos: Diebels Alt, Füchschen Alt, Uerige Altbier, estilo: Irish Red Ale, cor: Âmbar médio a cobre avermelhado médio, teor_alcoólico: 3.8 – 5.0%, sensorial: Caramelo moderado a muito pouco e dulçor, raramente com uma qualidade leve de torrada com manteiga ou toffee. O paladar geralmente é bastante neutro e granulado, ou pode assumir uma nota levemente tostada ou de biscoito ao terminar com um leve sabor de grão torrado, que confere uma secura característica ao final, exemplos: Franciscan Well Rebel Red, Kilkenny Irish Beer, Murphy’s Irish Red, O’Hara’s Irish Red Ale, estilo: English IPA, cor: Dourada a âmbar profundo, teor_alcoólico: 5.0% a 7.5%, sensorial: Amarga, moderadamente forte, bem atenuada, com aroma e sabor de lúpulo, exemplos: Samuel Smith's India Ale, Fuller's IPA, Greene King IPA, estilo: English Barley Wine, cor: Âmbar dourado a marrom escuro, teor_alcoólico: 8.0 – 12.0%, sensorial: Muito rico, fortemente maltado, geralmente com um aroma de caramelo nas versões mais escuras ou um leve caráter de toffee nas versões mais claras. Pode ter um caráter rico, incluindo notas de pão, torradas ou toffee, exemplos: Burton Bridge Thomas Sykes Old Ale, Coniston No. 9 Barley Wine, Fuller’s Golden Pride, Hogs Back A over T, J.W. Lee’s Vintage Harvest Ale, estilo: American Amber Ale, cor: Âmbar profundo a marrom acobreado, teor_alcoólico: 4.5 – 6.2%, sensorial: Aroma de lúpulo baixo a moderado reflexivo de variedades de lúpulo americanas ou do Novo Mundo (cítrico, floral, pinho, resina, especiarias, frutas tropicais, frutas de caroço, frutas vermelhas ou melão), exemplos: Anderson Valley Boont Amber Ale, Bell’s Amber Ale, Full Sail Amber, estilo: Flanders Red Ale, cor: Vermelho profundo, teor_alcoólico: 4.6 – 6.5%, sensorial: Perfil complexo frutado-azedo com malte de suporte. Frutado é alto e lembra cerejas pretas, laranjas, ameixas, groselhas ou couro de frutas, exemplos: Cuvée des Jacobins, Duchesse de Bourgogne, New Belgium La Folie, Rodenbach Classic, Rodenbach Grand Cru, Vichtenaar Flemish Ale, estilo: American Barleywine, cor: Âmbar a cobre médio, teor_alcoólico: 8.0 – 12.0%, sensorial: Aroma forte de malte e lúpulo domina. Os lúpulos são moderados a assertivos, mostrando uma gama de características americanas, do Novo Mundo ou inglesas, exemplos: Anchor Old Foghorn, Bell’s Third Coast Old Ale, East End Gratitude, Hair of the Dog Doggie Claws, Sierra Nevada Bigfoot, estilo: Old Ale, cor: Âmbar profundo, teor_alcoólico: 5.5 – 9.0%, sensorial:  vinhos, caramelo, melaço, toffee, leve melaço ou outros aromas de malte especiais, exemplos: Avery Old Jubilation, Berlina Old Ale, Greene King Strong Suffolk Ale, Marston Owd Roger, Theakston Old Peculie\n"
          ]
        }
      ]
    },
    {
      "cell_type": "markdown",
      "source": [
        "#Configuração do modelo"
      ],
      "metadata": {
        "id": "Oz4mppyN9Rhv"
      }
    },
    {
      "cell_type": "code",
      "source": [
        "generation_config = {\n",
        "    \"temperature\": 0.6,\n",
        "    \"candidate_count\": 1,\n",
        "}"
      ],
      "metadata": {
        "id": "G-pgYsE_Zsxz"
      },
      "execution_count": 348,
      "outputs": []
    },
    {
      "cell_type": "markdown",
      "source": [
        "# Resposta final da cerveja sugerida pelo Beer Match!"
      ],
      "metadata": {
        "id": "mAjYH5yF9Thi"
      }
    },
    {
      "cell_type": "code",
      "source": [
        "prompt = f\"Escolha 1 estilo levando em consideração a {cor}, o {teor_alcoolico} e o {sabor}. Coloque a resposta de forma descontraída e resumida com, pelo menos, 1 exemplo de cerveja: {resultado}\"\n",
        "\n",
        "model_2 = genai.GenerativeModel(\"gemini-1.0-pro\",\n",
        "                                generation_config=generation_config)\n",
        "response = model_2.generate_content(prompt)\n",
        "print(response.text)"
      ],
      "metadata": {
        "colab": {
          "base_uri": "https://localhost:8080/",
          "height": 34
        },
        "id": "9L4OfWtxZ2wg",
        "outputId": "ab851841-fede-471f-c80a-8f5a9648b873"
      },
      "execution_count": 358,
      "outputs": [
        {
          "output_type": "stream",
          "name": "stdout",
          "text": [
            "Pra quem curte o dourado do âmbar, um teorzinho entre 6% e 9%, e aquele frutadão gostoso, a American Amber Ale é a pedida!\n"
          ]
        }
      ]
    }
  ]
}